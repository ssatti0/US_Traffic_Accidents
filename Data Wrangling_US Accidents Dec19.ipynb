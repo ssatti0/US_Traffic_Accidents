{
 "cells": [
  {
   "cell_type": "markdown",
   "metadata": {},
   "source": [
    "### Data Wrangling Steps & Summary\n",
    "\n",
    "The US_Accidents_Dec19 dataset is read in and the following steps carried out:<br>\n",
    "1. Run .describe(), info() and shape to have an idea about the statistics of the numerical data, and the data types in the file.\n",
    "2. Based on 1. some data types were changed e.g. to datetime or categorical.\n",
    "3. Resampled data to reduce size, and saved (dec19_400k_rs1.csv).\n",
    "4. Time information is extracted: 'day_of_week', and 'hour'.\n",
    "5. Some boxplots were used to check for presence of outliers in the data.\n",
    "6. Null counts on data:<br>\n",
    "Weather variables with the highest null counts are 'Wind_Chill' and 'Precipitation'. \n",
    "7. Extra (was_null) columns were added to the dataframe to tag filled columns with previously missing values.<br>\n",
    "8. Missing values were filled:\n",
    "> - Missing Precipitation values were filled with '0' with the assumption of no rain on those days.<br>\n",
    "> - Both median and mean values were tested with Temperature and Wind_Speed. No big difference was found (a slight advantage was found in using median for Wind_Speed).\n",
    "> - Temperature, Pressure and Visibility were filled with the mean.\n",
    "> - A formula for Wind_Chill was predicted using a linear Regression model. Details on this are found in the 'Wind_Chill Prediction tests' notebook.<br>\n",
    "> - Number and Zipcode were not filled since they represent actual street numbers and zipcodes.\n",
    "\n",
    "9. The cleaned data was saved for future use ('dec19_400k_rs1_edt.csv').\n",
    "The filled features (Temperature_filled_mean, Humidity_filled_mean and Wind_Speed_filled_median, were used as input to predict the missing Wind_Chill values.\n",
    "\n",
    "10. Predicted Wind_Chill values were read in and appended to wrangled dataframe. The file, **dec19_400k_rs1_edt_fillna.csv** , was updated."
   ]
  },
  {
   "cell_type": "code",
   "execution_count": 1,
   "metadata": {},
   "outputs": [],
   "source": [
    "import pandas as pd\n",
    "import numpy as np\n",
    "import matplotlib.pyplot as plt\n",
    "import seaborn as sns\n",
    "from datetime import datetime\n",
    "\n",
    "%matplotlib inline"
   ]
  },
  {
   "cell_type": "markdown",
   "metadata": {},
   "source": [
    "#### Import /Re-sample/Output dataset:\n",
    "The full dataset is imported, and .describe() and info() implemented to have an idea about the basic statistics and columns present."
   ]
  },
  {
   "cell_type": "code",
   "execution_count": 56,
   "metadata": {},
   "outputs": [],
   "source": [
    "#dec19 = pd.read_csv('US_Accidents_Dec19.csv')"
   ]
  },
  {
   "cell_type": "code",
   "execution_count": 57,
   "metadata": {},
   "outputs": [
    {
     "data": {
      "text/html": [
       "<div>\n",
       "<style scoped>\n",
       "    .dataframe tbody tr th:only-of-type {\n",
       "        vertical-align: middle;\n",
       "    }\n",
       "\n",
       "    .dataframe tbody tr th {\n",
       "        vertical-align: top;\n",
       "    }\n",
       "\n",
       "    .dataframe thead th {\n",
       "        text-align: right;\n",
       "    }\n",
       "</style>\n",
       "<table border=\"1\" class=\"dataframe\">\n",
       "  <thead>\n",
       "    <tr style=\"text-align: right;\">\n",
       "      <th></th>\n",
       "      <th>count</th>\n",
       "      <th>mean</th>\n",
       "      <th>std</th>\n",
       "      <th>min</th>\n",
       "      <th>25%</th>\n",
       "      <th>50%</th>\n",
       "      <th>75%</th>\n",
       "      <th>max</th>\n",
       "    </tr>\n",
       "  </thead>\n",
       "  <tbody>\n",
       "    <tr>\n",
       "      <th>TMC</th>\n",
       "      <td>2246264.0</td>\n",
       "      <td>207.831632</td>\n",
       "      <td>20.329586</td>\n",
       "      <td>200.000000</td>\n",
       "      <td>201.000000</td>\n",
       "      <td>201.000000</td>\n",
       "      <td>201.000000</td>\n",
       "      <td>4.060000e+02</td>\n",
       "    </tr>\n",
       "    <tr>\n",
       "      <th>Severity</th>\n",
       "      <td>2974335.0</td>\n",
       "      <td>2.360190</td>\n",
       "      <td>0.541473</td>\n",
       "      <td>1.000000</td>\n",
       "      <td>2.000000</td>\n",
       "      <td>2.000000</td>\n",
       "      <td>3.000000</td>\n",
       "      <td>4.000000e+00</td>\n",
       "    </tr>\n",
       "    <tr>\n",
       "      <th>Start_Lat</th>\n",
       "      <td>2974335.0</td>\n",
       "      <td>36.493605</td>\n",
       "      <td>4.918849</td>\n",
       "      <td>24.555269</td>\n",
       "      <td>33.550402</td>\n",
       "      <td>35.849689</td>\n",
       "      <td>40.370260</td>\n",
       "      <td>4.900220e+01</td>\n",
       "    </tr>\n",
       "    <tr>\n",
       "      <th>Start_Lng</th>\n",
       "      <td>2974335.0</td>\n",
       "      <td>-95.426254</td>\n",
       "      <td>17.218806</td>\n",
       "      <td>-124.623833</td>\n",
       "      <td>-117.291985</td>\n",
       "      <td>-90.250832</td>\n",
       "      <td>-80.918915</td>\n",
       "      <td>-6.711317e+01</td>\n",
       "    </tr>\n",
       "    <tr>\n",
       "      <th>End_Lat</th>\n",
       "      <td>728071.0</td>\n",
       "      <td>37.580871</td>\n",
       "      <td>5.004757</td>\n",
       "      <td>24.570110</td>\n",
       "      <td>33.957554</td>\n",
       "      <td>37.903670</td>\n",
       "      <td>41.372630</td>\n",
       "      <td>4.907500e+01</td>\n",
       "    </tr>\n",
       "    <tr>\n",
       "      <th>End_Lng</th>\n",
       "      <td>728071.0</td>\n",
       "      <td>-99.976032</td>\n",
       "      <td>18.416647</td>\n",
       "      <td>-124.497829</td>\n",
       "      <td>-118.286610</td>\n",
       "      <td>-96.631690</td>\n",
       "      <td>-82.323850</td>\n",
       "      <td>-6.710924e+01</td>\n",
       "    </tr>\n",
       "    <tr>\n",
       "      <th>Distance(mi)</th>\n",
       "      <td>2974335.0</td>\n",
       "      <td>0.285565</td>\n",
       "      <td>1.548392</td>\n",
       "      <td>0.000000</td>\n",
       "      <td>0.000000</td>\n",
       "      <td>0.000000</td>\n",
       "      <td>0.010000</td>\n",
       "      <td>3.336300e+02</td>\n",
       "    </tr>\n",
       "    <tr>\n",
       "      <th>Number</th>\n",
       "      <td>1056730.0</td>\n",
       "      <td>5837.003544</td>\n",
       "      <td>15159.278074</td>\n",
       "      <td>0.000000</td>\n",
       "      <td>837.000000</td>\n",
       "      <td>2717.000000</td>\n",
       "      <td>7000.000000</td>\n",
       "      <td>9.999997e+06</td>\n",
       "    </tr>\n",
       "    <tr>\n",
       "      <th>Temperature(F)</th>\n",
       "      <td>2918272.0</td>\n",
       "      <td>62.351203</td>\n",
       "      <td>18.788549</td>\n",
       "      <td>-77.800000</td>\n",
       "      <td>50.000000</td>\n",
       "      <td>64.400000</td>\n",
       "      <td>76.000000</td>\n",
       "      <td>1.706000e+02</td>\n",
       "    </tr>\n",
       "    <tr>\n",
       "      <th>Wind_Chill(F)</th>\n",
       "      <td>1121712.0</td>\n",
       "      <td>51.326849</td>\n",
       "      <td>25.191271</td>\n",
       "      <td>-65.900000</td>\n",
       "      <td>32.000000</td>\n",
       "      <td>54.000000</td>\n",
       "      <td>73.000000</td>\n",
       "      <td>1.150000e+02</td>\n",
       "    </tr>\n",
       "    <tr>\n",
       "      <th>Humidity(%)</th>\n",
       "      <td>2915162.0</td>\n",
       "      <td>65.405416</td>\n",
       "      <td>22.556763</td>\n",
       "      <td>1.000000</td>\n",
       "      <td>49.000000</td>\n",
       "      <td>67.000000</td>\n",
       "      <td>84.000000</td>\n",
       "      <td>1.000000e+02</td>\n",
       "    </tr>\n",
       "    <tr>\n",
       "      <th>Pressure(in)</th>\n",
       "      <td>2926193.0</td>\n",
       "      <td>29.831895</td>\n",
       "      <td>0.721381</td>\n",
       "      <td>0.000000</td>\n",
       "      <td>29.820000</td>\n",
       "      <td>29.980000</td>\n",
       "      <td>30.110000</td>\n",
       "      <td>3.304000e+01</td>\n",
       "    </tr>\n",
       "    <tr>\n",
       "      <th>Visibility(mi)</th>\n",
       "      <td>2908644.0</td>\n",
       "      <td>9.150770</td>\n",
       "      <td>2.892114</td>\n",
       "      <td>0.000000</td>\n",
       "      <td>10.000000</td>\n",
       "      <td>10.000000</td>\n",
       "      <td>10.000000</td>\n",
       "      <td>1.400000e+02</td>\n",
       "    </tr>\n",
       "    <tr>\n",
       "      <th>Wind_Speed(mph)</th>\n",
       "      <td>2533495.0</td>\n",
       "      <td>8.298064</td>\n",
       "      <td>5.138546</td>\n",
       "      <td>0.000000</td>\n",
       "      <td>4.600000</td>\n",
       "      <td>7.000000</td>\n",
       "      <td>10.400000</td>\n",
       "      <td>8.228000e+02</td>\n",
       "    </tr>\n",
       "    <tr>\n",
       "      <th>Precipitation(in)</th>\n",
       "      <td>975977.0</td>\n",
       "      <td>0.020495</td>\n",
       "      <td>0.235770</td>\n",
       "      <td>0.000000</td>\n",
       "      <td>0.000000</td>\n",
       "      <td>0.000000</td>\n",
       "      <td>0.000000</td>\n",
       "      <td>2.500000e+01</td>\n",
       "    </tr>\n",
       "  </tbody>\n",
       "</table>\n",
       "</div>"
      ],
      "text/plain": [
       "                       count         mean           std         min  \\\n",
       "TMC                2246264.0   207.831632     20.329586  200.000000   \n",
       "Severity           2974335.0     2.360190      0.541473    1.000000   \n",
       "Start_Lat          2974335.0    36.493605      4.918849   24.555269   \n",
       "Start_Lng          2974335.0   -95.426254     17.218806 -124.623833   \n",
       "End_Lat             728071.0    37.580871      5.004757   24.570110   \n",
       "End_Lng             728071.0   -99.976032     18.416647 -124.497829   \n",
       "Distance(mi)       2974335.0     0.285565      1.548392    0.000000   \n",
       "Number             1056730.0  5837.003544  15159.278074    0.000000   \n",
       "Temperature(F)     2918272.0    62.351203     18.788549  -77.800000   \n",
       "Wind_Chill(F)      1121712.0    51.326849     25.191271  -65.900000   \n",
       "Humidity(%)        2915162.0    65.405416     22.556763    1.000000   \n",
       "Pressure(in)       2926193.0    29.831895      0.721381    0.000000   \n",
       "Visibility(mi)     2908644.0     9.150770      2.892114    0.000000   \n",
       "Wind_Speed(mph)    2533495.0     8.298064      5.138546    0.000000   \n",
       "Precipitation(in)   975977.0     0.020495      0.235770    0.000000   \n",
       "\n",
       "                          25%          50%          75%           max  \n",
       "TMC                201.000000   201.000000   201.000000  4.060000e+02  \n",
       "Severity             2.000000     2.000000     3.000000  4.000000e+00  \n",
       "Start_Lat           33.550402    35.849689    40.370260  4.900220e+01  \n",
       "Start_Lng         -117.291985   -90.250832   -80.918915 -6.711317e+01  \n",
       "End_Lat             33.957554    37.903670    41.372630  4.907500e+01  \n",
       "End_Lng           -118.286610   -96.631690   -82.323850 -6.710924e+01  \n",
       "Distance(mi)         0.000000     0.000000     0.010000  3.336300e+02  \n",
       "Number             837.000000  2717.000000  7000.000000  9.999997e+06  \n",
       "Temperature(F)      50.000000    64.400000    76.000000  1.706000e+02  \n",
       "Wind_Chill(F)       32.000000    54.000000    73.000000  1.150000e+02  \n",
       "Humidity(%)         49.000000    67.000000    84.000000  1.000000e+02  \n",
       "Pressure(in)        29.820000    29.980000    30.110000  3.304000e+01  \n",
       "Visibility(mi)      10.000000    10.000000    10.000000  1.400000e+02  \n",
       "Wind_Speed(mph)      4.600000     7.000000    10.400000  8.228000e+02  \n",
       "Precipitation(in)    0.000000     0.000000     0.000000  2.500000e+01  "
      ]
     },
     "execution_count": 57,
     "metadata": {},
     "output_type": "execute_result"
    }
   ],
   "source": [
    "#dec19.describe().transpose()"
   ]
  },
  {
   "cell_type": "code",
   "execution_count": 58,
   "metadata": {},
   "outputs": [
    {
     "name": "stdout",
     "output_type": "stream",
     "text": [
      "<class 'pandas.core.frame.DataFrame'>\n",
      "RangeIndex: 2974335 entries, 0 to 2974334\n",
      "Data columns (total 49 columns):\n",
      "ID                       object\n",
      "Source                   object\n",
      "TMC                      float64\n",
      "Severity                 int64\n",
      "Start_Time               object\n",
      "End_Time                 object\n",
      "Start_Lat                float64\n",
      "Start_Lng                float64\n",
      "End_Lat                  float64\n",
      "End_Lng                  float64\n",
      "Distance(mi)             float64\n",
      "Description              object\n",
      "Number                   float64\n",
      "Street                   object\n",
      "Side                     object\n",
      "City                     object\n",
      "County                   object\n",
      "State                    object\n",
      "Zipcode                  object\n",
      "Country                  object\n",
      "Timezone                 object\n",
      "Airport_Code             object\n",
      "Weather_Timestamp        object\n",
      "Temperature(F)           float64\n",
      "Wind_Chill(F)            float64\n",
      "Humidity(%)              float64\n",
      "Pressure(in)             float64\n",
      "Visibility(mi)           float64\n",
      "Wind_Direction           object\n",
      "Wind_Speed(mph)          float64\n",
      "Precipitation(in)        float64\n",
      "Weather_Condition        object\n",
      "Amenity                  bool\n",
      "Bump                     bool\n",
      "Crossing                 bool\n",
      "Give_Way                 bool\n",
      "Junction                 bool\n",
      "No_Exit                  bool\n",
      "Railway                  bool\n",
      "Roundabout               bool\n",
      "Station                  bool\n",
      "Stop                     bool\n",
      "Traffic_Calming          bool\n",
      "Traffic_Signal           bool\n",
      "Turning_Loop             bool\n",
      "Sunrise_Sunset           object\n",
      "Civil_Twilight           object\n",
      "Nautical_Twilight        object\n",
      "Astronomical_Twilight    object\n",
      "dtypes: bool(13), float64(14), int64(1), object(21)\n",
      "memory usage: 853.8+ MB\n"
     ]
    }
   ],
   "source": [
    "#dec19.info()"
   ]
  },
  {
   "cell_type": "markdown",
   "metadata": {},
   "source": [
    "#### Data Randomly Res-sampled and Saved:"
   ]
  },
  {
   "cell_type": "code",
   "execution_count": 5,
   "metadata": {},
   "outputs": [],
   "source": [
    "#resample data to minimize size\n",
    "#dec19_400k_rs1 = dec19.sample(n=400000, random_state=1)"
   ]
  },
  {
   "cell_type": "code",
   "execution_count": 6,
   "metadata": {},
   "outputs": [],
   "source": [
    "# output file as csv\n",
    "#dec19_400k_rs1.to_csv('dec19_400k_rs1.csv')"
   ]
  },
  {
   "cell_type": "code",
   "execution_count": 2,
   "metadata": {},
   "outputs": [],
   "source": [
    "df = pd.read_csv('dec19_400k_rs1.csv')"
   ]
  },
  {
   "cell_type": "code",
   "execution_count": 95,
   "metadata": {},
   "outputs": [
    {
     "data": {
      "text/html": [
       "<div>\n",
       "<style scoped>\n",
       "    .dataframe tbody tr th:only-of-type {\n",
       "        vertical-align: middle;\n",
       "    }\n",
       "\n",
       "    .dataframe tbody tr th {\n",
       "        vertical-align: top;\n",
       "    }\n",
       "\n",
       "    .dataframe thead th {\n",
       "        text-align: right;\n",
       "    }\n",
       "</style>\n",
       "<table border=\"1\" class=\"dataframe\">\n",
       "  <thead>\n",
       "    <tr style=\"text-align: right;\">\n",
       "      <th></th>\n",
       "      <th>count</th>\n",
       "      <th>mean</th>\n",
       "      <th>std</th>\n",
       "      <th>min</th>\n",
       "      <th>25%</th>\n",
       "      <th>50%</th>\n",
       "      <th>75%</th>\n",
       "      <th>max</th>\n",
       "    </tr>\n",
       "  </thead>\n",
       "  <tbody>\n",
       "    <tr>\n",
       "      <th>TMC</th>\n",
       "      <td>301701.0</td>\n",
       "      <td>207.841485</td>\n",
       "      <td>20.295358</td>\n",
       "      <td>200.000000</td>\n",
       "      <td>201.000000</td>\n",
       "      <td>201.000000</td>\n",
       "      <td>201.000000</td>\n",
       "      <td>406.000000</td>\n",
       "    </tr>\n",
       "    <tr>\n",
       "      <th>Severity</th>\n",
       "      <td>400000.0</td>\n",
       "      <td>2.360142</td>\n",
       "      <td>0.541752</td>\n",
       "      <td>1.000000</td>\n",
       "      <td>2.000000</td>\n",
       "      <td>2.000000</td>\n",
       "      <td>3.000000</td>\n",
       "      <td>4.000000</td>\n",
       "    </tr>\n",
       "    <tr>\n",
       "      <th>Start_Lat</th>\n",
       "      <td>400000.0</td>\n",
       "      <td>36.493190</td>\n",
       "      <td>4.919935</td>\n",
       "      <td>24.570442</td>\n",
       "      <td>33.552807</td>\n",
       "      <td>35.844623</td>\n",
       "      <td>40.367809</td>\n",
       "      <td>49.000580</td>\n",
       "    </tr>\n",
       "    <tr>\n",
       "      <th>Start_Lng</th>\n",
       "      <td>400000.0</td>\n",
       "      <td>-95.418894</td>\n",
       "      <td>17.210788</td>\n",
       "      <td>-124.497523</td>\n",
       "      <td>-117.291287</td>\n",
       "      <td>-90.288139</td>\n",
       "      <td>-80.918633</td>\n",
       "      <td>-67.606875</td>\n",
       "    </tr>\n",
       "    <tr>\n",
       "      <th>End_Lat</th>\n",
       "      <td>98299.0</td>\n",
       "      <td>37.599169</td>\n",
       "      <td>5.002061</td>\n",
       "      <td>24.571534</td>\n",
       "      <td>33.959787</td>\n",
       "      <td>37.929230</td>\n",
       "      <td>41.380871</td>\n",
       "      <td>49.075000</td>\n",
       "    </tr>\n",
       "    <tr>\n",
       "      <th>End_Lng</th>\n",
       "      <td>98299.0</td>\n",
       "      <td>-99.986740</td>\n",
       "      <td>18.415574</td>\n",
       "      <td>-124.497442</td>\n",
       "      <td>-118.286333</td>\n",
       "      <td>-96.628680</td>\n",
       "      <td>-82.343977</td>\n",
       "      <td>-67.626605</td>\n",
       "    </tr>\n",
       "    <tr>\n",
       "      <th>Distance(mi)</th>\n",
       "      <td>400000.0</td>\n",
       "      <td>0.287561</td>\n",
       "      <td>1.587642</td>\n",
       "      <td>0.000000</td>\n",
       "      <td>0.000000</td>\n",
       "      <td>0.000000</td>\n",
       "      <td>0.010000</td>\n",
       "      <td>333.630005</td>\n",
       "    </tr>\n",
       "    <tr>\n",
       "      <th>Number</th>\n",
       "      <td>141503.0</td>\n",
       "      <td>5820.272722</td>\n",
       "      <td>11736.123756</td>\n",
       "      <td>1.000000</td>\n",
       "      <td>845.500000</td>\n",
       "      <td>2716.000000</td>\n",
       "      <td>6999.000000</td>\n",
       "      <td>961052.000000</td>\n",
       "    </tr>\n",
       "    <tr>\n",
       "      <th>Temperature(F)</th>\n",
       "      <td>392443.0</td>\n",
       "      <td>62.367451</td>\n",
       "      <td>18.780979</td>\n",
       "      <td>-77.800000</td>\n",
       "      <td>50.000000</td>\n",
       "      <td>64.400000</td>\n",
       "      <td>76.000000</td>\n",
       "      <td>168.800000</td>\n",
       "    </tr>\n",
       "    <tr>\n",
       "      <th>Wind_Chill(F)</th>\n",
       "      <td>151072.0</td>\n",
       "      <td>51.328208</td>\n",
       "      <td>25.149195</td>\n",
       "      <td>-52.700000</td>\n",
       "      <td>32.000000</td>\n",
       "      <td>54.000000</td>\n",
       "      <td>73.000000</td>\n",
       "      <td>115.000000</td>\n",
       "    </tr>\n",
       "    <tr>\n",
       "      <th>Humidity(%)</th>\n",
       "      <td>392044.0</td>\n",
       "      <td>65.398506</td>\n",
       "      <td>22.577303</td>\n",
       "      <td>1.000000</td>\n",
       "      <td>49.000000</td>\n",
       "      <td>68.000000</td>\n",
       "      <td>84.000000</td>\n",
       "      <td>100.000000</td>\n",
       "    </tr>\n",
       "    <tr>\n",
       "      <th>Pressure(in)</th>\n",
       "      <td>393526.0</td>\n",
       "      <td>29.829979</td>\n",
       "      <td>0.733241</td>\n",
       "      <td>0.300000</td>\n",
       "      <td>29.820000</td>\n",
       "      <td>29.980000</td>\n",
       "      <td>30.110000</td>\n",
       "      <td>31.150000</td>\n",
       "    </tr>\n",
       "    <tr>\n",
       "      <th>Visibility(mi)</th>\n",
       "      <td>391156.0</td>\n",
       "      <td>9.155309</td>\n",
       "      <td>2.904976</td>\n",
       "      <td>0.000000</td>\n",
       "      <td>10.000000</td>\n",
       "      <td>10.000000</td>\n",
       "      <td>10.000000</td>\n",
       "      <td>111.000000</td>\n",
       "    </tr>\n",
       "    <tr>\n",
       "      <th>Wind_Speed(mph)</th>\n",
       "      <td>341003.0</td>\n",
       "      <td>8.305884</td>\n",
       "      <td>4.874132</td>\n",
       "      <td>0.000000</td>\n",
       "      <td>4.600000</td>\n",
       "      <td>7.000000</td>\n",
       "      <td>11.500000</td>\n",
       "      <td>230.000000</td>\n",
       "    </tr>\n",
       "    <tr>\n",
       "      <th>Precipitation(in)</th>\n",
       "      <td>131252.0</td>\n",
       "      <td>0.019732</td>\n",
       "      <td>0.220855</td>\n",
       "      <td>0.000000</td>\n",
       "      <td>0.000000</td>\n",
       "      <td>0.000000</td>\n",
       "      <td>0.000000</td>\n",
       "      <td>10.180000</td>\n",
       "    </tr>\n",
       "  </tbody>\n",
       "</table>\n",
       "</div>"
      ],
      "text/plain": [
       "                      count         mean           std         min  \\\n",
       "TMC                301701.0   207.841485     20.295358  200.000000   \n",
       "Severity           400000.0     2.360142      0.541752    1.000000   \n",
       "Start_Lat          400000.0    36.493190      4.919935   24.570442   \n",
       "Start_Lng          400000.0   -95.418894     17.210788 -124.497523   \n",
       "End_Lat             98299.0    37.599169      5.002061   24.571534   \n",
       "End_Lng             98299.0   -99.986740     18.415574 -124.497442   \n",
       "Distance(mi)       400000.0     0.287561      1.587642    0.000000   \n",
       "Number             141503.0  5820.272722  11736.123756    1.000000   \n",
       "Temperature(F)     392443.0    62.367451     18.780979  -77.800000   \n",
       "Wind_Chill(F)      151072.0    51.328208     25.149195  -52.700000   \n",
       "Humidity(%)        392044.0    65.398506     22.577303    1.000000   \n",
       "Pressure(in)       393526.0    29.829979      0.733241    0.300000   \n",
       "Visibility(mi)     391156.0     9.155309      2.904976    0.000000   \n",
       "Wind_Speed(mph)    341003.0     8.305884      4.874132    0.000000   \n",
       "Precipitation(in)  131252.0     0.019732      0.220855    0.000000   \n",
       "\n",
       "                          25%          50%          75%            max  \n",
       "TMC                201.000000   201.000000   201.000000     406.000000  \n",
       "Severity             2.000000     2.000000     3.000000       4.000000  \n",
       "Start_Lat           33.552807    35.844623    40.367809      49.000580  \n",
       "Start_Lng         -117.291287   -90.288139   -80.918633     -67.606875  \n",
       "End_Lat             33.959787    37.929230    41.380871      49.075000  \n",
       "End_Lng           -118.286333   -96.628680   -82.343977     -67.626605  \n",
       "Distance(mi)         0.000000     0.000000     0.010000     333.630005  \n",
       "Number             845.500000  2716.000000  6999.000000  961052.000000  \n",
       "Temperature(F)      50.000000    64.400000    76.000000     168.800000  \n",
       "Wind_Chill(F)       32.000000    54.000000    73.000000     115.000000  \n",
       "Humidity(%)         49.000000    68.000000    84.000000     100.000000  \n",
       "Pressure(in)        29.820000    29.980000    30.110000      31.150000  \n",
       "Visibility(mi)      10.000000    10.000000    10.000000     111.000000  \n",
       "Wind_Speed(mph)      4.600000     7.000000    11.500000     230.000000  \n",
       "Precipitation(in)    0.000000     0.000000     0.000000      10.180000  "
      ]
     },
     "execution_count": 95,
     "metadata": {},
     "output_type": "execute_result"
    }
   ],
   "source": [
    "df.drop('Unnamed: 0', axis=1).describe().transpose()"
   ]
  },
  {
   "cell_type": "code",
   "execution_count": 99,
   "metadata": {},
   "outputs": [
    {
     "data": {
      "text/html": [
       "<div>\n",
       "<style scoped>\n",
       "    .dataframe tbody tr th:only-of-type {\n",
       "        vertical-align: middle;\n",
       "    }\n",
       "\n",
       "    .dataframe tbody tr th {\n",
       "        vertical-align: top;\n",
       "    }\n",
       "\n",
       "    .dataframe thead th {\n",
       "        text-align: right;\n",
       "    }\n",
       "</style>\n",
       "<table border=\"1\" class=\"dataframe\">\n",
       "  <thead>\n",
       "    <tr style=\"text-align: right;\">\n",
       "      <th></th>\n",
       "      <th>Weather_Condition</th>\n",
       "    </tr>\n",
       "  </thead>\n",
       "  <tbody>\n",
       "    <tr>\n",
       "      <th>0</th>\n",
       "      <td>Clear</td>\n",
       "    </tr>\n",
       "    <tr>\n",
       "      <th>1</th>\n",
       "      <td>Cloudy</td>\n",
       "    </tr>\n",
       "    <tr>\n",
       "      <th>2</th>\n",
       "      <td>Partly Cloudy</td>\n",
       "    </tr>\n",
       "    <tr>\n",
       "      <th>3</th>\n",
       "      <td>Cloudy</td>\n",
       "    </tr>\n",
       "    <tr>\n",
       "      <th>4</th>\n",
       "      <td>Cloudy</td>\n",
       "    </tr>\n",
       "  </tbody>\n",
       "</table>\n",
       "</div>"
      ],
      "text/plain": [
       "  Weather_Condition\n",
       "0             Clear\n",
       "1            Cloudy\n",
       "2     Partly Cloudy\n",
       "3            Cloudy\n",
       "4            Cloudy"
      ]
     },
     "execution_count": 99,
     "metadata": {},
     "output_type": "execute_result"
    }
   ],
   "source": [
    "df[['Weather_Condition']].head()"
   ]
  },
  {
   "cell_type": "code",
   "execution_count": 100,
   "metadata": {},
   "outputs": [
    {
     "name": "stdout",
     "output_type": "stream",
     "text": [
      "<class 'pandas.core.frame.DataFrame'>\n",
      "RangeIndex: 400000 entries, 0 to 399999\n",
      "Data columns (total 50 columns):\n",
      "Unnamed: 0               400000 non-null int64\n",
      "ID                       400000 non-null object\n",
      "Source                   400000 non-null object\n",
      "TMC                      301701 non-null float64\n",
      "Severity                 400000 non-null int64\n",
      "Start_Time               400000 non-null object\n",
      "End_Time                 400000 non-null object\n",
      "Start_Lat                400000 non-null float64\n",
      "Start_Lng                400000 non-null float64\n",
      "End_Lat                  98299 non-null float64\n",
      "End_Lng                  98299 non-null float64\n",
      "Distance(mi)             400000 non-null float64\n",
      "Description              400000 non-null object\n",
      "Number                   141503 non-null float64\n",
      "Street                   400000 non-null object\n",
      "Side                     400000 non-null object\n",
      "City                     399990 non-null object\n",
      "County                   400000 non-null object\n",
      "State                    400000 non-null object\n",
      "Zipcode                  399870 non-null object\n",
      "Country                  400000 non-null object\n",
      "Timezone                 399552 non-null object\n",
      "Airport_Code             399213 non-null object\n",
      "Weather_Timestamp        394983 non-null object\n",
      "Temperature(F)           392443 non-null float64\n",
      "Wind_Chill(F)            151072 non-null float64\n",
      "Humidity(%)              392044 non-null float64\n",
      "Pressure(in)             393526 non-null float64\n",
      "Visibility(mi)           391156 non-null float64\n",
      "Wind_Direction           393897 non-null object\n",
      "Wind_Speed(mph)          341003 non-null float64\n",
      "Precipitation(in)        131252 non-null float64\n",
      "Weather_Condition        391170 non-null object\n",
      "Amenity                  400000 non-null bool\n",
      "Bump                     400000 non-null bool\n",
      "Crossing                 400000 non-null bool\n",
      "Give_Way                 400000 non-null bool\n",
      "Junction                 400000 non-null bool\n",
      "No_Exit                  400000 non-null bool\n",
      "Railway                  400000 non-null bool\n",
      "Roundabout               400000 non-null bool\n",
      "Station                  400000 non-null bool\n",
      "Stop                     400000 non-null bool\n",
      "Traffic_Calming          400000 non-null bool\n",
      "Traffic_Signal           400000 non-null bool\n",
      "Turning_Loop             400000 non-null bool\n",
      "Sunrise_Sunset           399989 non-null object\n",
      "Civil_Twilight           399989 non-null object\n",
      "Nautical_Twilight        399989 non-null object\n",
      "Astronomical_Twilight    399989 non-null object\n",
      "dtypes: bool(13), float64(14), int64(2), object(21)\n",
      "memory usage: 117.9+ MB\n"
     ]
    }
   ],
   "source": [
    "df.info()"
   ]
  },
  {
   "cell_type": "markdown",
   "metadata": {},
   "source": [
    "#### Data Converted to Appropriate Types:"
   ]
  },
  {
   "cell_type": "code",
   "execution_count": 48,
   "metadata": {},
   "outputs": [],
   "source": [
    "# Change data type to categorical:\n",
    "df = df.astype({\"Wind_Direction\":'category', \"Weather_Condition\":'category', \n",
    "                      \"Side\":'category'}) "
   ]
  },
  {
   "cell_type": "code",
   "execution_count": 102,
   "metadata": {},
   "outputs": [
    {
     "name": "stdout",
     "output_type": "stream",
     "text": [
      "<class 'pandas.core.frame.DataFrame'>\n",
      "RangeIndex: 400000 entries, 0 to 399999\n",
      "Data columns (total 50 columns):\n",
      "Unnamed: 0               400000 non-null int64\n",
      "ID                       400000 non-null object\n",
      "Source                   400000 non-null object\n",
      "TMC                      301701 non-null float64\n",
      "Severity                 400000 non-null int64\n",
      "Start_Time               400000 non-null datetime64[ns]\n",
      "End_Time                 400000 non-null datetime64[ns]\n",
      "Start_Lat                400000 non-null float64\n",
      "Start_Lng                400000 non-null float64\n",
      "End_Lat                  98299 non-null float64\n",
      "End_Lng                  98299 non-null float64\n",
      "Distance(mi)             400000 non-null float64\n",
      "Description              400000 non-null object\n",
      "Number                   141503 non-null float64\n",
      "Street                   400000 non-null object\n",
      "Side                     400000 non-null category\n",
      "City                     399990 non-null object\n",
      "County                   400000 non-null object\n",
      "State                    400000 non-null object\n",
      "Zipcode                  399870 non-null object\n",
      "Country                  400000 non-null object\n",
      "Timezone                 399552 non-null object\n",
      "Airport_Code             399213 non-null object\n",
      "Weather_Timestamp        394983 non-null datetime64[ns]\n",
      "Temperature(F)           392443 non-null float64\n",
      "Wind_Chill(F)            151072 non-null float64\n",
      "Humidity(%)              392044 non-null float64\n",
      "Pressure(in)             393526 non-null float64\n",
      "Visibility(mi)           391156 non-null float64\n",
      "Wind_Direction           393897 non-null category\n",
      "Wind_Speed(mph)          341003 non-null float64\n",
      "Precipitation(in)        131252 non-null float64\n",
      "Weather_Condition        391170 non-null category\n",
      "Amenity                  400000 non-null bool\n",
      "Bump                     400000 non-null bool\n",
      "Crossing                 400000 non-null bool\n",
      "Give_Way                 400000 non-null bool\n",
      "Junction                 400000 non-null bool\n",
      "No_Exit                  400000 non-null bool\n",
      "Railway                  400000 non-null bool\n",
      "Roundabout               400000 non-null bool\n",
      "Station                  400000 non-null bool\n",
      "Stop                     400000 non-null bool\n",
      "Traffic_Calming          400000 non-null bool\n",
      "Traffic_Signal           400000 non-null bool\n",
      "Turning_Loop             400000 non-null bool\n",
      "Sunrise_Sunset           399989 non-null object\n",
      "Civil_Twilight           399989 non-null object\n",
      "Nautical_Twilight        399989 non-null object\n",
      "Astronomical_Twilight    399989 non-null object\n",
      "dtypes: bool(13), category(3), datetime64[ns](3), float64(14), int64(2), object(15)\n",
      "memory usage: 109.9+ MB\n"
     ]
    }
   ],
   "source": [
    "# convert Start_Time/End_Time/Weather_Timestamp columns from 'object' to 'datetime':\n",
    "df['Start_Time'] = pd.to_datetime(df['Start_Time'])\n",
    "df['End_Time'] = pd.to_datetime(df['End_Time'])\n",
    "df['Weather_Timestamp'] = pd.to_datetime(df['Weather_Timestamp'])\n",
    "df.info()"
   ]
  },
  {
   "cell_type": "code",
   "execution_count": 103,
   "metadata": {},
   "outputs": [
    {
     "data": {
      "text/html": [
       "<div>\n",
       "<style scoped>\n",
       "    .dataframe tbody tr th:only-of-type {\n",
       "        vertical-align: middle;\n",
       "    }\n",
       "\n",
       "    .dataframe tbody tr th {\n",
       "        vertical-align: top;\n",
       "    }\n",
       "\n",
       "    .dataframe thead th {\n",
       "        text-align: right;\n",
       "    }\n",
       "</style>\n",
       "<table border=\"1\" class=\"dataframe\">\n",
       "  <thead>\n",
       "    <tr style=\"text-align: right;\">\n",
       "      <th></th>\n",
       "      <th>Start_Time</th>\n",
       "      <th>End_Time</th>\n",
       "      <th>Weather_Timestamp</th>\n",
       "    </tr>\n",
       "  </thead>\n",
       "  <tbody>\n",
       "    <tr>\n",
       "      <th>0</th>\n",
       "      <td>2016-09-01 20:24:12</td>\n",
       "      <td>2016-09-01 20:54:12</td>\n",
       "      <td>2016-09-01 20:51:00</td>\n",
       "    </tr>\n",
       "    <tr>\n",
       "      <th>1</th>\n",
       "      <td>2016-08-29 00:42:10</td>\n",
       "      <td>2016-08-29 06:42:10</td>\n",
       "      <td>2016-08-29 00:55:00</td>\n",
       "    </tr>\n",
       "    <tr>\n",
       "      <th>2</th>\n",
       "      <td>2016-06-24 13:27:09</td>\n",
       "      <td>2016-06-24 19:27:09</td>\n",
       "      <td>2016-06-24 13:53:00</td>\n",
       "    </tr>\n",
       "    <tr>\n",
       "      <th>3</th>\n",
       "      <td>2019-05-03 08:18:18</td>\n",
       "      <td>2019-05-03 08:47:59</td>\n",
       "      <td>2019-05-03 07:54:00</td>\n",
       "    </tr>\n",
       "    <tr>\n",
       "      <th>4</th>\n",
       "      <td>2019-04-11 23:11:04</td>\n",
       "      <td>2019-04-12 03:11:04</td>\n",
       "      <td>2019-04-11 22:56:00</td>\n",
       "    </tr>\n",
       "  </tbody>\n",
       "</table>\n",
       "</div>"
      ],
      "text/plain": [
       "           Start_Time            End_Time   Weather_Timestamp\n",
       "0 2016-09-01 20:24:12 2016-09-01 20:54:12 2016-09-01 20:51:00\n",
       "1 2016-08-29 00:42:10 2016-08-29 06:42:10 2016-08-29 00:55:00\n",
       "2 2016-06-24 13:27:09 2016-06-24 19:27:09 2016-06-24 13:53:00\n",
       "3 2019-05-03 08:18:18 2019-05-03 08:47:59 2019-05-03 07:54:00\n",
       "4 2019-04-11 23:11:04 2019-04-12 03:11:04 2019-04-11 22:56:00"
      ]
     },
     "execution_count": 103,
     "metadata": {},
     "output_type": "execute_result"
    }
   ],
   "source": [
    "# Check datetime data in the dataset\n",
    "df[['Start_Time', 'End_Time', 'Weather_Timestamp']].head()"
   ]
  },
  {
   "cell_type": "markdown",
   "metadata": {},
   "source": [
    "#### Extract Additional Data and Attach to Dataframe:"
   ]
  },
  {
   "cell_type": "code",
   "execution_count": 104,
   "metadata": {},
   "outputs": [
    {
     "data": {
      "text/plain": [
       "Tuesday      73273\n",
       "Wednesday    72111\n",
       "Friday       71922\n",
       "Thursday     71167\n",
       "Monday       68539\n",
       "Saturday     22914\n",
       "Sunday       20074\n",
       "Name: Day_of_Week, dtype: int64"
      ]
     },
     "execution_count": 104,
     "metadata": {},
     "output_type": "execute_result"
    }
   ],
   "source": [
    "# Extract Day of the week from Start_Time data\n",
    "\n",
    "df['Day_of_Week'] = df['Start_Time'].dt.weekday_name\n",
    "df = df.astype({\"Day_of_Week\":'category'})\n",
    "df['Day_of_Week'].value_counts()\n"
   ]
  },
  {
   "cell_type": "code",
   "execution_count": 105,
   "metadata": {},
   "outputs": [
    {
     "data": {
      "text/plain": [
       "8     37917\n",
       "7     36726\n",
       "17    29769\n",
       "16    28664\n",
       "9     23817\n",
       "15    23803\n",
       "6     22971\n",
       "18    22432\n",
       "10    21457\n",
       "11    20845\n",
       "14    20203\n",
       "13    19153\n",
       "12    18816\n",
       "19    15429\n",
       "5     11294\n",
       "20    11001\n",
       "21     7716\n",
       "4      7202\n",
       "22     6604\n",
       "23     3570\n",
       "0      3177\n",
       "2      2518\n",
       "3      2464\n",
       "1      2452\n",
       "Name: Hour_of_Day, dtype: int64"
      ]
     },
     "execution_count": 105,
     "metadata": {},
     "output_type": "execute_result"
    }
   ],
   "source": [
    "# Extract hour of the day\n",
    "df['Hour_of_Day'] = df['Start_Time'].dt.hour\n",
    "df['Hour_of_Day'].value_counts()\n",
    "#dec19['Hour_of_Day'].plot(kind='bar')"
   ]
  },
  {
   "cell_type": "code",
   "execution_count": 106,
   "metadata": {},
   "outputs": [
    {
     "data": {
      "text/plain": [
       "Index(['Unnamed: 0', 'ID', 'Source', 'TMC', 'Severity', 'Start_Time',\n",
       "       'End_Time', 'Start_Lat', 'Start_Lng', 'End_Lat', 'End_Lng',\n",
       "       'Distance(mi)', 'Description', 'Number', 'Street', 'Side', 'City',\n",
       "       'County', 'State', 'Zipcode', 'Country', 'Timezone', 'Airport_Code',\n",
       "       'Weather_Timestamp', 'Temperature(F)', 'Wind_Chill(F)', 'Humidity(%)',\n",
       "       'Pressure(in)', 'Visibility(mi)', 'Wind_Direction', 'Wind_Speed(mph)',\n",
       "       'Precipitation(in)', 'Weather_Condition', 'Amenity', 'Bump', 'Crossing',\n",
       "       'Give_Way', 'Junction', 'No_Exit', 'Railway', 'Roundabout', 'Station',\n",
       "       'Stop', 'Traffic_Calming', 'Traffic_Signal', 'Turning_Loop',\n",
       "       'Sunrise_Sunset', 'Civil_Twilight', 'Nautical_Twilight',\n",
       "       'Astronomical_Twilight', 'Day_of_Week', 'Hour_of_Day'],\n",
       "      dtype='object')"
      ]
     },
     "execution_count": 106,
     "metadata": {},
     "output_type": "execute_result"
    }
   ],
   "source": [
    "df.columns"
   ]
  },
  {
   "cell_type": "markdown",
   "metadata": {},
   "source": [
    "#### Boxplots to Observe Outliers:"
   ]
  },
  {
   "cell_type": "code",
   "execution_count": 23,
   "metadata": {},
   "outputs": [],
   "source": [
    "df_semi = df[['Temperature(F)', 'Wind_Chill(F)', 'Humidity(%)', 'Visibility(mi)',\n",
    "              'Wind_Speed(mph)','Pressure(in)', 'Precipitation(in)']]"
   ]
  },
  {
   "cell_type": "code",
   "execution_count": 31,
   "metadata": {},
   "outputs": [
    {
     "data": {
      "text/plain": [
       "Text(0.5, 1.0, 'Weather Data')"
      ]
     },
     "execution_count": 31,
     "metadata": {},
     "output_type": "execute_result"
    },
    {
     "data": {
      "image/png": "[encoded data removed]",
      "text/plain": [
       "<Figure size 864x288 with 1 Axes>"
      ]
     },
     "metadata": {
      "needs_background": "light"
     },
     "output_type": "display_data"
    }
   ],
   "source": [
    "fig = plt.gcf()\n",
    "fig.set_size_inches(12, 4)\n",
    "sns.boxplot(x=\"variable\", y=\"value\", data=pd.melt(df_semi))\n",
    "plt.title('Weather Data', fontsize = 14);"
   ]
  },
  {
   "cell_type": "code",
   "execution_count": 47,
   "metadata": {},
   "outputs": [
    {
     "data": {
      "image/png": "[encoded data removed]",
      "text/plain": [
       "<Figure size 432x288 with 1 Axes>"
      ]
     },
     "metadata": {
      "needs_background": "light"
     },
     "output_type": "display_data"
    }
   ],
   "source": [
    "# Study outliers\n",
    "sns.boxplot(data=df['Wind_Speed(mph)'])\n",
    "plt.title('Wind_Speed(mph)', fontsize = 12);"
   ]
  },
  {
   "cell_type": "code",
   "execution_count": 43,
   "metadata": {},
   "outputs": [
    {
     "data": {
      "image/png": "[encoded data removed]",
      "text/plain": [
       "<Figure size 432x288 with 1 Axes>"
      ]
     },
     "metadata": {
      "needs_background": "light"
     },
     "output_type": "display_data"
    }
   ],
   "source": [
    "sns.boxplot(data=df['Humidity(%)'])\n",
    "plt.title('Humidity(%)', fontsize = 12);"
   ]
  },
  {
   "cell_type": "code",
   "execution_count": 46,
   "metadata": {},
   "outputs": [
    {
     "data": {
      "image/png": "[encoded data removed]",
      "text/plain": [
       "<Figure size 432x288 with 1 Axes>"
      ]
     },
     "metadata": {
      "needs_background": "light"
     },
     "output_type": "display_data"
    }
   ],
   "source": [
    "sns.boxplot(data=df['Temperature(F)'])\n",
    "plt.title('Temperature(F)', fontsize = 12);"
   ]
  },
  {
   "cell_type": "code",
   "execution_count": 37,
   "metadata": {},
   "outputs": [
    {
     "data": {
      "image/png": "[encoded data removed]",
      "text/plain": [
       "<Figure size 432x288 with 1 Axes>"
      ]
     },
     "metadata": {
      "needs_background": "light"
     },
     "output_type": "display_data"
    }
   ],
   "source": [
    "sns.boxplot(data=df['Wind_Chill(F)'])\n",
    "plt.title('Wind_Chill(F)', fontsize = 12);"
   ]
  },
  {
   "cell_type": "code",
   "execution_count": 36,
   "metadata": {},
   "outputs": [
    {
     "data": {
      "image/png": "[encoded data removed]",
      "text/plain": [
       "<Figure size 432x288 with 1 Axes>"
      ]
     },
     "metadata": {
      "needs_background": "light"
     },
     "output_type": "display_data"
    }
   ],
   "source": [
    "sns.boxplot(data=df['Pressure(in)'])\n",
    "plt.title('Pressure(in)', fontsize = 12);"
   ]
  },
  {
   "cell_type": "code",
   "execution_count": 35,
   "metadata": {},
   "outputs": [
    {
     "data": {
      "image/png": "[encoded data removed]",
      "text/plain": [
       "<Figure size 432x288 with 1 Axes>"
      ]
     },
     "metadata": {
      "needs_background": "light"
     },
     "output_type": "display_data"
    }
   ],
   "source": [
    "sns.boxplot(data=df['Precipitation(in)'])\n",
    "plt.title('Precipitation(in)', fontsize = 12);"
   ]
  },
  {
   "cell_type": "markdown",
   "metadata": {},
   "source": [
    "#### Study Missing Values in Dataset:"
   ]
  },
  {
   "cell_type": "code",
   "execution_count": 50,
   "metadata": {},
   "outputs": [
    {
     "data": {
      "text/html": [
       "<div>\n",
       "<style scoped>\n",
       "    .dataframe tbody tr th:only-of-type {\n",
       "        vertical-align: middle;\n",
       "    }\n",
       "\n",
       "    .dataframe tbody tr th {\n",
       "        vertical-align: top;\n",
       "    }\n",
       "\n",
       "    .dataframe thead th {\n",
       "        text-align: right;\n",
       "    }\n",
       "</style>\n",
       "<table border=\"1\" class=\"dataframe\">\n",
       "  <thead>\n",
       "    <tr style=\"text-align: right;\">\n",
       "      <th></th>\n",
       "      <th>Number of Missing Values</th>\n",
       "    </tr>\n",
       "  </thead>\n",
       "  <tbody>\n",
       "    <tr>\n",
       "      <th>Unnamed: 0</th>\n",
       "      <td>0</td>\n",
       "    </tr>\n",
       "    <tr>\n",
       "      <th>ID</th>\n",
       "      <td>0</td>\n",
       "    </tr>\n",
       "    <tr>\n",
       "      <th>Source</th>\n",
       "      <td>0</td>\n",
       "    </tr>\n",
       "    <tr>\n",
       "      <th>TMC</th>\n",
       "      <td>98299</td>\n",
       "    </tr>\n",
       "    <tr>\n",
       "      <th>Severity</th>\n",
       "      <td>0</td>\n",
       "    </tr>\n",
       "    <tr>\n",
       "      <th>Start_Time</th>\n",
       "      <td>0</td>\n",
       "    </tr>\n",
       "    <tr>\n",
       "      <th>End_Time</th>\n",
       "      <td>0</td>\n",
       "    </tr>\n",
       "    <tr>\n",
       "      <th>Start_Lat</th>\n",
       "      <td>0</td>\n",
       "    </tr>\n",
       "    <tr>\n",
       "      <th>Start_Lng</th>\n",
       "      <td>0</td>\n",
       "    </tr>\n",
       "    <tr>\n",
       "      <th>End_Lat</th>\n",
       "      <td>301701</td>\n",
       "    </tr>\n",
       "    <tr>\n",
       "      <th>End_Lng</th>\n",
       "      <td>301701</td>\n",
       "    </tr>\n",
       "    <tr>\n",
       "      <th>Distance(mi)</th>\n",
       "      <td>0</td>\n",
       "    </tr>\n",
       "    <tr>\n",
       "      <th>Description</th>\n",
       "      <td>0</td>\n",
       "    </tr>\n",
       "    <tr>\n",
       "      <th>Number</th>\n",
       "      <td>258497</td>\n",
       "    </tr>\n",
       "    <tr>\n",
       "      <th>Street</th>\n",
       "      <td>0</td>\n",
       "    </tr>\n",
       "    <tr>\n",
       "      <th>Side</th>\n",
       "      <td>0</td>\n",
       "    </tr>\n",
       "    <tr>\n",
       "      <th>City</th>\n",
       "      <td>10</td>\n",
       "    </tr>\n",
       "    <tr>\n",
       "      <th>County</th>\n",
       "      <td>0</td>\n",
       "    </tr>\n",
       "    <tr>\n",
       "      <th>State</th>\n",
       "      <td>0</td>\n",
       "    </tr>\n",
       "    <tr>\n",
       "      <th>Zipcode</th>\n",
       "      <td>130</td>\n",
       "    </tr>\n",
       "    <tr>\n",
       "      <th>Country</th>\n",
       "      <td>0</td>\n",
       "    </tr>\n",
       "    <tr>\n",
       "      <th>Timezone</th>\n",
       "      <td>448</td>\n",
       "    </tr>\n",
       "    <tr>\n",
       "      <th>Airport_Code</th>\n",
       "      <td>787</td>\n",
       "    </tr>\n",
       "    <tr>\n",
       "      <th>Weather_Timestamp</th>\n",
       "      <td>5017</td>\n",
       "    </tr>\n",
       "    <tr>\n",
       "      <th>Temperature(F)</th>\n",
       "      <td>7557</td>\n",
       "    </tr>\n",
       "    <tr>\n",
       "      <th>Wind_Chill(F)</th>\n",
       "      <td>248928</td>\n",
       "    </tr>\n",
       "    <tr>\n",
       "      <th>Humidity(%)</th>\n",
       "      <td>7956</td>\n",
       "    </tr>\n",
       "    <tr>\n",
       "      <th>Pressure(in)</th>\n",
       "      <td>6474</td>\n",
       "    </tr>\n",
       "    <tr>\n",
       "      <th>Visibility(mi)</th>\n",
       "      <td>8844</td>\n",
       "    </tr>\n",
       "    <tr>\n",
       "      <th>Wind_Direction</th>\n",
       "      <td>6103</td>\n",
       "    </tr>\n",
       "    <tr>\n",
       "      <th>Wind_Speed(mph)</th>\n",
       "      <td>58997</td>\n",
       "    </tr>\n",
       "    <tr>\n",
       "      <th>Precipitation(in)</th>\n",
       "      <td>268748</td>\n",
       "    </tr>\n",
       "    <tr>\n",
       "      <th>Weather_Condition</th>\n",
       "      <td>8830</td>\n",
       "    </tr>\n",
       "    <tr>\n",
       "      <th>Amenity</th>\n",
       "      <td>0</td>\n",
       "    </tr>\n",
       "    <tr>\n",
       "      <th>Bump</th>\n",
       "      <td>0</td>\n",
       "    </tr>\n",
       "    <tr>\n",
       "      <th>Crossing</th>\n",
       "      <td>0</td>\n",
       "    </tr>\n",
       "    <tr>\n",
       "      <th>Give_Way</th>\n",
       "      <td>0</td>\n",
       "    </tr>\n",
       "    <tr>\n",
       "      <th>Junction</th>\n",
       "      <td>0</td>\n",
       "    </tr>\n",
       "    <tr>\n",
       "      <th>No_Exit</th>\n",
       "      <td>0</td>\n",
       "    </tr>\n",
       "    <tr>\n",
       "      <th>Railway</th>\n",
       "      <td>0</td>\n",
       "    </tr>\n",
       "    <tr>\n",
       "      <th>Roundabout</th>\n",
       "      <td>0</td>\n",
       "    </tr>\n",
       "    <tr>\n",
       "      <th>Station</th>\n",
       "      <td>0</td>\n",
       "    </tr>\n",
       "    <tr>\n",
       "      <th>Stop</th>\n",
       "      <td>0</td>\n",
       "    </tr>\n",
       "    <tr>\n",
       "      <th>Traffic_Calming</th>\n",
       "      <td>0</td>\n",
       "    </tr>\n",
       "    <tr>\n",
       "      <th>Traffic_Signal</th>\n",
       "      <td>0</td>\n",
       "    </tr>\n",
       "    <tr>\n",
       "      <th>Turning_Loop</th>\n",
       "      <td>0</td>\n",
       "    </tr>\n",
       "    <tr>\n",
       "      <th>Sunrise_Sunset</th>\n",
       "      <td>11</td>\n",
       "    </tr>\n",
       "    <tr>\n",
       "      <th>Civil_Twilight</th>\n",
       "      <td>11</td>\n",
       "    </tr>\n",
       "    <tr>\n",
       "      <th>Nautical_Twilight</th>\n",
       "      <td>11</td>\n",
       "    </tr>\n",
       "    <tr>\n",
       "      <th>Astronomical_Twilight</th>\n",
       "      <td>11</td>\n",
       "    </tr>\n",
       "  </tbody>\n",
       "</table>\n",
       "</div>"
      ],
      "text/plain": [
       "                       Number of Missing Values\n",
       "Unnamed: 0                                    0\n",
       "ID                                            0\n",
       "Source                                        0\n",
       "TMC                                       98299\n",
       "Severity                                      0\n",
       "Start_Time                                    0\n",
       "End_Time                                      0\n",
       "Start_Lat                                     0\n",
       "Start_Lng                                     0\n",
       "End_Lat                                  301701\n",
       "End_Lng                                  301701\n",
       "Distance(mi)                                  0\n",
       "Description                                   0\n",
       "Number                                   258497\n",
       "Street                                        0\n",
       "Side                                          0\n",
       "City                                         10\n",
       "County                                        0\n",
       "State                                         0\n",
       "Zipcode                                     130\n",
       "Country                                       0\n",
       "Timezone                                    448\n",
       "Airport_Code                                787\n",
       "Weather_Timestamp                          5017\n",
       "Temperature(F)                             7557\n",
       "Wind_Chill(F)                            248928\n",
       "Humidity(%)                                7956\n",
       "Pressure(in)                               6474\n",
       "Visibility(mi)                             8844\n",
       "Wind_Direction                             6103\n",
       "Wind_Speed(mph)                           58997\n",
       "Precipitation(in)                        268748\n",
       "Weather_Condition                          8830\n",
       "Amenity                                       0\n",
       "Bump                                          0\n",
       "Crossing                                      0\n",
       "Give_Way                                      0\n",
       "Junction                                      0\n",
       "No_Exit                                       0\n",
       "Railway                                       0\n",
       "Roundabout                                    0\n",
       "Station                                       0\n",
       "Stop                                          0\n",
       "Traffic_Calming                               0\n",
       "Traffic_Signal                                0\n",
       "Turning_Loop                                  0\n",
       "Sunrise_Sunset                               11\n",
       "Civil_Twilight                               11\n",
       "Nautical_Twilight                            11\n",
       "Astronomical_Twilight                        11"
      ]
     },
     "execution_count": 50,
     "metadata": {},
     "output_type": "execute_result"
    }
   ],
   "source": [
    "# Count number of nulls in dataset\n",
    "n = pd.DataFrame(df.isnull().sum())\n",
    "n.columns=['Number of Missing Values']\n",
    "n"
   ]
  },
  {
   "cell_type": "code",
   "execution_count": 54,
   "metadata": {},
   "outputs": [
    {
     "data": {
      "image/png": "[encoded data removed]",
      "text/plain": [
       "<Figure size 432x288 with 1 Axes>"
      ]
     },
     "metadata": {
      "needs_background": "light"
     },
     "output_type": "display_data"
    }
   ],
   "source": [
    "# Visualize number of non-zero missing data\n",
    "# Plot will exclude all features with number of missing values =0\n",
    "\n",
    "d = n[n['Number of Missing Values'] > 0]\n",
    "d.sort_values('Number of Missing Values').plot(kind='barh')\n",
    "plt.title('Number of Non_zero Missing Data')\n",
    "plt.tight_layout()\n",
    "plt.savefig('non_zero missing data.png', bbox='standard')\n",
    "plt.show();"
   ]
  },
  {
   "cell_type": "markdown",
   "metadata": {},
   "source": [
    "#### *inFill* then *Tag* Null/Missing values in Dataset:\n",
    "This step is necessary to tag locations where there are missing values, before they are infilled. This 'wasnull' column will have a 'True' for cells with missing values, and 'False' for those with no missing values. An example, given below for 'Precipitation(in)', shows a dataframe with three columns: 'Precipitation_filled' is the infilled column, 'Precipitation(in)' is the original column from the dataset, and 'Precipitation_wasnull' shows locations where the cell had been infilled and those with original data."
   ]
  },
  {
   "cell_type": "code",
   "execution_count": 115,
   "metadata": {},
   "outputs": [],
   "source": [
    "# Add extra column with null values for the weather variables:\n",
    "df['Precipitation_wasnull'] = df['Precipitation(in)'].isnull()"
   ]
  },
  {
   "cell_type": "code",
   "execution_count": 116,
   "metadata": {},
   "outputs": [],
   "source": [
    "df['Wind_Chill_wasnull'] = df['Wind_Chill(F)'].isnull()"
   ]
  },
  {
   "cell_type": "code",
   "execution_count": 117,
   "metadata": {},
   "outputs": [],
   "source": [
    "df['Wind_Speed_wasnull'] = df['Wind_Speed(mph)'].isnull()"
   ]
  },
  {
   "cell_type": "code",
   "execution_count": 118,
   "metadata": {},
   "outputs": [],
   "source": [
    "df['Visibility_wasnull'] = df['Visibility(mi)'].isnull()"
   ]
  },
  {
   "cell_type": "code",
   "execution_count": 119,
   "metadata": {},
   "outputs": [],
   "source": [
    "df['Humidity_wasnull'] = df['Humidity(%)'].isnull()"
   ]
  },
  {
   "cell_type": "code",
   "execution_count": 120,
   "metadata": {},
   "outputs": [],
   "source": [
    "df['Temperature_wasnull'] = df['Temperature(F)'].isnull()"
   ]
  },
  {
   "cell_type": "code",
   "execution_count": 121,
   "metadata": {},
   "outputs": [],
   "source": [
    "df['Pressure_wasnull'] = df['Pressure(in)'].isnull()"
   ]
  },
  {
   "cell_type": "code",
   "execution_count": 122,
   "metadata": {},
   "outputs": [
    {
     "data": {
      "text/html": [
       "<div>\n",
       "<style scoped>\n",
       "    .dataframe tbody tr th:only-of-type {\n",
       "        vertical-align: middle;\n",
       "    }\n",
       "\n",
       "    .dataframe tbody tr th {\n",
       "        vertical-align: top;\n",
       "    }\n",
       "\n",
       "    .dataframe thead th {\n",
       "        text-align: right;\n",
       "    }\n",
       "</style>\n",
       "<table border=\"1\" class=\"dataframe\">\n",
       "  <thead>\n",
       "    <tr style=\"text-align: right;\">\n",
       "      <th></th>\n",
       "      <th>Unnamed: 0</th>\n",
       "      <th>ID</th>\n",
       "      <th>Source</th>\n",
       "      <th>TMC</th>\n",
       "      <th>Severity</th>\n",
       "      <th>Start_Time</th>\n",
       "      <th>End_Time</th>\n",
       "      <th>Start_Lat</th>\n",
       "      <th>Start_Lng</th>\n",
       "      <th>End_Lat</th>\n",
       "      <th>...</th>\n",
       "      <th>Astronomical_Twilight</th>\n",
       "      <th>Day_of_Week</th>\n",
       "      <th>Hour_of_Day</th>\n",
       "      <th>Precipitation_wasnull</th>\n",
       "      <th>Wind_Chill_wasnull</th>\n",
       "      <th>Wind_Speed_wasnull</th>\n",
       "      <th>Visibility_wasnull</th>\n",
       "      <th>Humidity_wasnull</th>\n",
       "      <th>Temperature_wasnull</th>\n",
       "      <th>Pressure_wasnull</th>\n",
       "    </tr>\n",
       "  </thead>\n",
       "  <tbody>\n",
       "    <tr>\n",
       "      <th>0</th>\n",
       "      <td>298435</td>\n",
       "      <td>A-298438</td>\n",
       "      <td>MapQuest</td>\n",
       "      <td>201.0</td>\n",
       "      <td>2</td>\n",
       "      <td>2016-09-01 20:24:12</td>\n",
       "      <td>2016-09-01 20:54:12</td>\n",
       "      <td>30.295200</td>\n",
       "      <td>-97.736923</td>\n",
       "      <td>NaN</td>\n",
       "      <td>...</td>\n",
       "      <td>Day</td>\n",
       "      <td>Thursday</td>\n",
       "      <td>20</td>\n",
       "      <td>True</td>\n",
       "      <td>True</td>\n",
       "      <td>False</td>\n",
       "      <td>False</td>\n",
       "      <td>False</td>\n",
       "      <td>False</td>\n",
       "      <td>False</td>\n",
       "    </tr>\n",
       "    <tr>\n",
       "      <th>1</th>\n",
       "      <td>2327373</td>\n",
       "      <td>A-2327397</td>\n",
       "      <td>Bing</td>\n",
       "      <td>NaN</td>\n",
       "      <td>3</td>\n",
       "      <td>2016-08-29 00:42:10</td>\n",
       "      <td>2016-08-29 06:42:10</td>\n",
       "      <td>29.977700</td>\n",
       "      <td>-90.061000</td>\n",
       "      <td>29.99615</td>\n",
       "      <td>...</td>\n",
       "      <td>Night</td>\n",
       "      <td>Monday</td>\n",
       "      <td>0</td>\n",
       "      <td>False</td>\n",
       "      <td>False</td>\n",
       "      <td>False</td>\n",
       "      <td>False</td>\n",
       "      <td>False</td>\n",
       "      <td>False</td>\n",
       "      <td>False</td>\n",
       "    </tr>\n",
       "    <tr>\n",
       "      <th>2</th>\n",
       "      <td>2333228</td>\n",
       "      <td>A-2333252</td>\n",
       "      <td>Bing</td>\n",
       "      <td>NaN</td>\n",
       "      <td>2</td>\n",
       "      <td>2016-06-24 13:27:09</td>\n",
       "      <td>2016-06-24 19:27:09</td>\n",
       "      <td>41.846930</td>\n",
       "      <td>-87.948100</td>\n",
       "      <td>41.84693</td>\n",
       "      <td>...</td>\n",
       "      <td>Day</td>\n",
       "      <td>Friday</td>\n",
       "      <td>13</td>\n",
       "      <td>True</td>\n",
       "      <td>True</td>\n",
       "      <td>False</td>\n",
       "      <td>False</td>\n",
       "      <td>False</td>\n",
       "      <td>False</td>\n",
       "      <td>False</td>\n",
       "    </tr>\n",
       "    <tr>\n",
       "      <th>3</th>\n",
       "      <td>973611</td>\n",
       "      <td>A-973622</td>\n",
       "      <td>MapQuest</td>\n",
       "      <td>201.0</td>\n",
       "      <td>2</td>\n",
       "      <td>2019-05-03 08:18:18</td>\n",
       "      <td>2019-05-03 08:47:59</td>\n",
       "      <td>40.111660</td>\n",
       "      <td>-75.129280</td>\n",
       "      <td>NaN</td>\n",
       "      <td>...</td>\n",
       "      <td>Day</td>\n",
       "      <td>Friday</td>\n",
       "      <td>8</td>\n",
       "      <td>False</td>\n",
       "      <td>False</td>\n",
       "      <td>False</td>\n",
       "      <td>False</td>\n",
       "      <td>False</td>\n",
       "      <td>False</td>\n",
       "      <td>False</td>\n",
       "    </tr>\n",
       "    <tr>\n",
       "      <th>4</th>\n",
       "      <td>2905068</td>\n",
       "      <td>A-2905092</td>\n",
       "      <td>Bing</td>\n",
       "      <td>NaN</td>\n",
       "      <td>2</td>\n",
       "      <td>2019-04-11 23:11:04</td>\n",
       "      <td>2019-04-12 03:11:04</td>\n",
       "      <td>44.377351</td>\n",
       "      <td>-123.786987</td>\n",
       "      <td>44.37729</td>\n",
       "      <td>...</td>\n",
       "      <td>Night</td>\n",
       "      <td>Thursday</td>\n",
       "      <td>23</td>\n",
       "      <td>False</td>\n",
       "      <td>False</td>\n",
       "      <td>False</td>\n",
       "      <td>False</td>\n",
       "      <td>False</td>\n",
       "      <td>False</td>\n",
       "      <td>False</td>\n",
       "    </tr>\n",
       "  </tbody>\n",
       "</table>\n",
       "<p>5 rows × 59 columns</p>\n",
       "</div>"
      ],
      "text/plain": [
       "   Unnamed: 0         ID    Source    TMC  Severity          Start_Time  \\\n",
       "0      298435   A-298438  MapQuest  201.0         2 2016-09-01 20:24:12   \n",
       "1     2327373  A-2327397      Bing    NaN         3 2016-08-29 00:42:10   \n",
       "2     2333228  A-2333252      Bing    NaN         2 2016-06-24 13:27:09   \n",
       "3      973611   A-973622  MapQuest  201.0         2 2019-05-03 08:18:18   \n",
       "4     2905068  A-2905092      Bing    NaN         2 2019-04-11 23:11:04   \n",
       "\n",
       "             End_Time  Start_Lat   Start_Lng   End_Lat  ...  \\\n",
       "0 2016-09-01 20:54:12  30.295200  -97.736923       NaN  ...   \n",
       "1 2016-08-29 06:42:10  29.977700  -90.061000  29.99615  ...   \n",
       "2 2016-06-24 19:27:09  41.846930  -87.948100  41.84693  ...   \n",
       "3 2019-05-03 08:47:59  40.111660  -75.129280       NaN  ...   \n",
       "4 2019-04-12 03:11:04  44.377351 -123.786987  44.37729  ...   \n",
       "\n",
       "   Astronomical_Twilight  Day_of_Week Hour_of_Day  Precipitation_wasnull  \\\n",
       "0                    Day     Thursday          20                   True   \n",
       "1                  Night       Monday           0                  False   \n",
       "2                    Day       Friday          13                   True   \n",
       "3                    Day       Friday           8                  False   \n",
       "4                  Night     Thursday          23                  False   \n",
       "\n",
       "  Wind_Chill_wasnull Wind_Speed_wasnull Visibility_wasnull Humidity_wasnull  \\\n",
       "0               True              False              False            False   \n",
       "1              False              False              False            False   \n",
       "2               True              False              False            False   \n",
       "3              False              False              False            False   \n",
       "4              False              False              False            False   \n",
       "\n",
       "  Temperature_wasnull Pressure_wasnull  \n",
       "0               False            False  \n",
       "1               False            False  \n",
       "2               False            False  \n",
       "3               False            False  \n",
       "4               False            False  \n",
       "\n",
       "[5 rows x 59 columns]"
      ]
     },
     "execution_count": 122,
     "metadata": {},
     "output_type": "execute_result"
    }
   ],
   "source": [
    "df.head()"
   ]
  },
  {
   "cell_type": "code",
   "execution_count": 123,
   "metadata": {},
   "outputs": [],
   "source": [
    "# Fill missing values for Precipitation with 0:\n",
    "df['Precipitation_filled'] = df['Precipitation(in)'].fillna(value = 0)"
   ]
  },
  {
   "cell_type": "code",
   "execution_count": 124,
   "metadata": {},
   "outputs": [
    {
     "data": {
      "text/html": [
       "<div>\n",
       "<style scoped>\n",
       "    .dataframe tbody tr th:only-of-type {\n",
       "        vertical-align: middle;\n",
       "    }\n",
       "\n",
       "    .dataframe tbody tr th {\n",
       "        vertical-align: top;\n",
       "    }\n",
       "\n",
       "    .dataframe thead th {\n",
       "        text-align: right;\n",
       "    }\n",
       "</style>\n",
       "<table border=\"1\" class=\"dataframe\">\n",
       "  <thead>\n",
       "    <tr style=\"text-align: right;\">\n",
       "      <th></th>\n",
       "      <th>Precipitation_filled</th>\n",
       "      <th>Precipitation(in)</th>\n",
       "      <th>Precipitation_wasnull</th>\n",
       "    </tr>\n",
       "  </thead>\n",
       "  <tbody>\n",
       "    <tr>\n",
       "      <th>0</th>\n",
       "      <td>0.0</td>\n",
       "      <td>NaN</td>\n",
       "      <td>True</td>\n",
       "    </tr>\n",
       "    <tr>\n",
       "      <th>1</th>\n",
       "      <td>0.0</td>\n",
       "      <td>0.0</td>\n",
       "      <td>False</td>\n",
       "    </tr>\n",
       "    <tr>\n",
       "      <th>2</th>\n",
       "      <td>0.0</td>\n",
       "      <td>NaN</td>\n",
       "      <td>True</td>\n",
       "    </tr>\n",
       "    <tr>\n",
       "      <th>3</th>\n",
       "      <td>0.0</td>\n",
       "      <td>0.0</td>\n",
       "      <td>False</td>\n",
       "    </tr>\n",
       "    <tr>\n",
       "      <th>4</th>\n",
       "      <td>0.0</td>\n",
       "      <td>0.0</td>\n",
       "      <td>False</td>\n",
       "    </tr>\n",
       "  </tbody>\n",
       "</table>\n",
       "</div>"
      ],
      "text/plain": [
       "   Precipitation_filled  Precipitation(in)  Precipitation_wasnull\n",
       "0                   0.0                NaN                   True\n",
       "1                   0.0                0.0                  False\n",
       "2                   0.0                NaN                   True\n",
       "3                   0.0                0.0                  False\n",
       "4                   0.0                0.0                  False"
      ]
     },
     "execution_count": 124,
     "metadata": {},
     "output_type": "execute_result"
    }
   ],
   "source": [
    "df[['Precipitation_filled', 'Precipitation(in)','Precipitation_wasnull']].head()\n"
   ]
  },
  {
   "cell_type": "code",
   "execution_count": 125,
   "metadata": {},
   "outputs": [
    {
     "data": {
      "text/plain": [
       "58997"
      ]
     },
     "execution_count": 125,
     "metadata": {},
     "output_type": "execute_result"
    }
   ],
   "source": [
    "df['Wind_Speed(mph)'].isnull().sum()"
   ]
  },
  {
   "cell_type": "code",
   "execution_count": 126,
   "metadata": {},
   "outputs": [],
   "source": [
    "# Fill missing values for Wind_Speed with mean:\n",
    "\n",
    "WS_mean = df['Wind_Speed(mph)'].mean()\n",
    "df['Wind_Speed_filled_mean'] = df['Wind_Speed(mph)'].fillna(WS_mean)"
   ]
  },
  {
   "cell_type": "code",
   "execution_count": 127,
   "metadata": {},
   "outputs": [
    {
     "data": {
      "text/plain": [
       "0"
      ]
     },
     "execution_count": 127,
     "metadata": {},
     "output_type": "execute_result"
    }
   ],
   "source": [
    "df['Wind_Speed_filled_mean'].isnull().sum()"
   ]
  },
  {
   "cell_type": "code",
   "execution_count": 128,
   "metadata": {},
   "outputs": [],
   "source": [
    "# Fill missing values for Wind_Speed with median:\n",
    "\n",
    "WS_median = df['Wind_Speed(mph)'].median()\n",
    "df['Wind_Speed_filled_median'] = df['Wind_Speed(mph)'].fillna(WS_median)"
   ]
  },
  {
   "cell_type": "code",
   "execution_count": 129,
   "metadata": {},
   "outputs": [
    {
     "data": {
      "text/plain": [
       "0"
      ]
     },
     "execution_count": 129,
     "metadata": {},
     "output_type": "execute_result"
    }
   ],
   "source": [
    "df['Wind_Speed_filled_median'].isnull().sum()"
   ]
  },
  {
   "cell_type": "code",
   "execution_count": 130,
   "metadata": {},
   "outputs": [
    {
     "data": {
      "text/html": [
       "<div>\n",
       "<style scoped>\n",
       "    .dataframe tbody tr th:only-of-type {\n",
       "        vertical-align: middle;\n",
       "    }\n",
       "\n",
       "    .dataframe tbody tr th {\n",
       "        vertical-align: top;\n",
       "    }\n",
       "\n",
       "    .dataframe thead th {\n",
       "        text-align: right;\n",
       "    }\n",
       "</style>\n",
       "<table border=\"1\" class=\"dataframe\">\n",
       "  <thead>\n",
       "    <tr style=\"text-align: right;\">\n",
       "      <th></th>\n",
       "      <th>Wind_Speed(mph)</th>\n",
       "      <th>Wind_Speed_filled_mean</th>\n",
       "      <th>Wind_Speed_filled_median</th>\n",
       "    </tr>\n",
       "  </thead>\n",
       "  <tbody>\n",
       "    <tr>\n",
       "      <th>399996</th>\n",
       "      <td>0.0</td>\n",
       "      <td>0.0</td>\n",
       "      <td>0.0</td>\n",
       "    </tr>\n",
       "    <tr>\n",
       "      <th>399997</th>\n",
       "      <td>6.0</td>\n",
       "      <td>6.0</td>\n",
       "      <td>6.0</td>\n",
       "    </tr>\n",
       "    <tr>\n",
       "      <th>399998</th>\n",
       "      <td>0.0</td>\n",
       "      <td>0.0</td>\n",
       "      <td>0.0</td>\n",
       "    </tr>\n",
       "    <tr>\n",
       "      <th>399999</th>\n",
       "      <td>3.0</td>\n",
       "      <td>3.0</td>\n",
       "      <td>3.0</td>\n",
       "    </tr>\n",
       "  </tbody>\n",
       "</table>\n",
       "</div>"
      ],
      "text/plain": [
       "        Wind_Speed(mph)  Wind_Speed_filled_mean  Wind_Speed_filled_median\n",
       "399996              0.0                     0.0                       0.0\n",
       "399997              6.0                     6.0                       6.0\n",
       "399998              0.0                     0.0                       0.0\n",
       "399999              3.0                     3.0                       3.0"
      ]
     },
     "execution_count": 130,
     "metadata": {},
     "output_type": "execute_result"
    }
   ],
   "source": [
    "df[['Wind_Speed(mph)','Wind_Speed_filled_mean', 'Wind_Speed_filled_median']].tail(4)"
   ]
  },
  {
   "cell_type": "code",
   "execution_count": 131,
   "metadata": {},
   "outputs": [
    {
     "name": "stdout",
     "output_type": "stream",
     "text": [
      "count    341003.000000\n",
      "mean          8.305884\n",
      "std           4.874132\n",
      "min           0.000000\n",
      "25%           4.600000\n",
      "50%           7.000000\n",
      "75%          11.500000\n",
      "max         230.000000\n",
      "Name: Wind_Speed(mph), dtype: float64 count    400000.000000\n",
      "mean          8.305884\n",
      "std           4.500350\n",
      "min           0.000000\n",
      "25%           5.800000\n",
      "50%           8.100000\n",
      "75%          10.400000\n",
      "max         230.000000\n",
      "Name: Wind_Speed_filled_mean, dtype: float64 count    400000.000000\n",
      "mean          8.113276\n",
      "std           4.524111\n",
      "min           0.000000\n",
      "25%           5.800000\n",
      "50%           7.000000\n",
      "75%          10.400000\n",
      "max         230.000000\n",
      "Name: Wind_Speed_filled_median, dtype: float64\n"
     ]
    }
   ],
   "source": [
    "# Compare median and mean fill to actual Wind_Speed(mph):\n",
    "# median has stats that are marginally closer to actual Wind_Speed(mph)\n",
    "#recommended for use in fillna()\n",
    "\n",
    "print(df['Wind_Speed(mph)'].describe(), df['Wind_Speed_filled_mean'].describe(), \n",
    "df['Wind_Speed_filled_median'].describe())"
   ]
  },
  {
   "cell_type": "code",
   "execution_count": 132,
   "metadata": {},
   "outputs": [
    {
     "data": {
      "text/html": [
       "<div>\n",
       "<style scoped>\n",
       "    .dataframe tbody tr th:only-of-type {\n",
       "        vertical-align: middle;\n",
       "    }\n",
       "\n",
       "    .dataframe tbody tr th {\n",
       "        vertical-align: top;\n",
       "    }\n",
       "\n",
       "    .dataframe thead th {\n",
       "        text-align: right;\n",
       "    }\n",
       "</style>\n",
       "<table border=\"1\" class=\"dataframe\">\n",
       "  <thead>\n",
       "    <tr style=\"text-align: right;\">\n",
       "      <th></th>\n",
       "      <th>Unnamed: 0</th>\n",
       "      <th>ID</th>\n",
       "      <th>Source</th>\n",
       "      <th>TMC</th>\n",
       "      <th>Severity</th>\n",
       "      <th>Start_Time</th>\n",
       "      <th>End_Time</th>\n",
       "      <th>Start_Lat</th>\n",
       "      <th>Start_Lng</th>\n",
       "      <th>End_Lat</th>\n",
       "      <th>...</th>\n",
       "      <th>Precipitation_wasnull</th>\n",
       "      <th>Wind_Chill_wasnull</th>\n",
       "      <th>Wind_Speed_wasnull</th>\n",
       "      <th>Visibility_wasnull</th>\n",
       "      <th>Humidity_wasnull</th>\n",
       "      <th>Temperature_wasnull</th>\n",
       "      <th>Pressure_wasnull</th>\n",
       "      <th>Precipitation_filled</th>\n",
       "      <th>Wind_Speed_filled_mean</th>\n",
       "      <th>Wind_Speed_filled_median</th>\n",
       "    </tr>\n",
       "  </thead>\n",
       "  <tbody>\n",
       "    <tr>\n",
       "      <th>0</th>\n",
       "      <td>298435</td>\n",
       "      <td>A-298438</td>\n",
       "      <td>MapQuest</td>\n",
       "      <td>201.0</td>\n",
       "      <td>2</td>\n",
       "      <td>2016-09-01 20:24:12</td>\n",
       "      <td>2016-09-01 20:54:12</td>\n",
       "      <td>30.295200</td>\n",
       "      <td>-97.736923</td>\n",
       "      <td>NaN</td>\n",
       "      <td>...</td>\n",
       "      <td>True</td>\n",
       "      <td>True</td>\n",
       "      <td>False</td>\n",
       "      <td>False</td>\n",
       "      <td>False</td>\n",
       "      <td>False</td>\n",
       "      <td>False</td>\n",
       "      <td>0.0</td>\n",
       "      <td>6.9</td>\n",
       "      <td>6.9</td>\n",
       "    </tr>\n",
       "    <tr>\n",
       "      <th>1</th>\n",
       "      <td>2327373</td>\n",
       "      <td>A-2327397</td>\n",
       "      <td>Bing</td>\n",
       "      <td>NaN</td>\n",
       "      <td>3</td>\n",
       "      <td>2016-08-29 00:42:10</td>\n",
       "      <td>2016-08-29 06:42:10</td>\n",
       "      <td>29.977700</td>\n",
       "      <td>-90.061000</td>\n",
       "      <td>29.99615</td>\n",
       "      <td>...</td>\n",
       "      <td>False</td>\n",
       "      <td>False</td>\n",
       "      <td>False</td>\n",
       "      <td>False</td>\n",
       "      <td>False</td>\n",
       "      <td>False</td>\n",
       "      <td>False</td>\n",
       "      <td>0.0</td>\n",
       "      <td>0.0</td>\n",
       "      <td>0.0</td>\n",
       "    </tr>\n",
       "    <tr>\n",
       "      <th>2</th>\n",
       "      <td>2333228</td>\n",
       "      <td>A-2333252</td>\n",
       "      <td>Bing</td>\n",
       "      <td>NaN</td>\n",
       "      <td>2</td>\n",
       "      <td>2016-06-24 13:27:09</td>\n",
       "      <td>2016-06-24 19:27:09</td>\n",
       "      <td>41.846930</td>\n",
       "      <td>-87.948100</td>\n",
       "      <td>41.84693</td>\n",
       "      <td>...</td>\n",
       "      <td>True</td>\n",
       "      <td>True</td>\n",
       "      <td>False</td>\n",
       "      <td>False</td>\n",
       "      <td>False</td>\n",
       "      <td>False</td>\n",
       "      <td>False</td>\n",
       "      <td>0.0</td>\n",
       "      <td>10.4</td>\n",
       "      <td>10.4</td>\n",
       "    </tr>\n",
       "    <tr>\n",
       "      <th>3</th>\n",
       "      <td>973611</td>\n",
       "      <td>A-973622</td>\n",
       "      <td>MapQuest</td>\n",
       "      <td>201.0</td>\n",
       "      <td>2</td>\n",
       "      <td>2019-05-03 08:18:18</td>\n",
       "      <td>2019-05-03 08:47:59</td>\n",
       "      <td>40.111660</td>\n",
       "      <td>-75.129280</td>\n",
       "      <td>NaN</td>\n",
       "      <td>...</td>\n",
       "      <td>False</td>\n",
       "      <td>False</td>\n",
       "      <td>False</td>\n",
       "      <td>False</td>\n",
       "      <td>False</td>\n",
       "      <td>False</td>\n",
       "      <td>False</td>\n",
       "      <td>0.0</td>\n",
       "      <td>9.0</td>\n",
       "      <td>9.0</td>\n",
       "    </tr>\n",
       "    <tr>\n",
       "      <th>4</th>\n",
       "      <td>2905068</td>\n",
       "      <td>A-2905092</td>\n",
       "      <td>Bing</td>\n",
       "      <td>NaN</td>\n",
       "      <td>2</td>\n",
       "      <td>2019-04-11 23:11:04</td>\n",
       "      <td>2019-04-12 03:11:04</td>\n",
       "      <td>44.377351</td>\n",
       "      <td>-123.786987</td>\n",
       "      <td>44.37729</td>\n",
       "      <td>...</td>\n",
       "      <td>False</td>\n",
       "      <td>False</td>\n",
       "      <td>False</td>\n",
       "      <td>False</td>\n",
       "      <td>False</td>\n",
       "      <td>False</td>\n",
       "      <td>False</td>\n",
       "      <td>0.0</td>\n",
       "      <td>3.0</td>\n",
       "      <td>3.0</td>\n",
       "    </tr>\n",
       "  </tbody>\n",
       "</table>\n",
       "<p>5 rows × 62 columns</p>\n",
       "</div>"
      ],
      "text/plain": [
       "   Unnamed: 0         ID    Source    TMC  Severity          Start_Time  \\\n",
       "0      298435   A-298438  MapQuest  201.0         2 2016-09-01 20:24:12   \n",
       "1     2327373  A-2327397      Bing    NaN         3 2016-08-29 00:42:10   \n",
       "2     2333228  A-2333252      Bing    NaN         2 2016-06-24 13:27:09   \n",
       "3      973611   A-973622  MapQuest  201.0         2 2019-05-03 08:18:18   \n",
       "4     2905068  A-2905092      Bing    NaN         2 2019-04-11 23:11:04   \n",
       "\n",
       "             End_Time  Start_Lat   Start_Lng   End_Lat  ...  \\\n",
       "0 2016-09-01 20:54:12  30.295200  -97.736923       NaN  ...   \n",
       "1 2016-08-29 06:42:10  29.977700  -90.061000  29.99615  ...   \n",
       "2 2016-06-24 19:27:09  41.846930  -87.948100  41.84693  ...   \n",
       "3 2019-05-03 08:47:59  40.111660  -75.129280       NaN  ...   \n",
       "4 2019-04-12 03:11:04  44.377351 -123.786987  44.37729  ...   \n",
       "\n",
       "   Precipitation_wasnull  Wind_Chill_wasnull Wind_Speed_wasnull  \\\n",
       "0                   True                True              False   \n",
       "1                  False               False              False   \n",
       "2                   True                True              False   \n",
       "3                  False               False              False   \n",
       "4                  False               False              False   \n",
       "\n",
       "   Visibility_wasnull Humidity_wasnull Temperature_wasnull Pressure_wasnull  \\\n",
       "0               False            False               False            False   \n",
       "1               False            False               False            False   \n",
       "2               False            False               False            False   \n",
       "3               False            False               False            False   \n",
       "4               False            False               False            False   \n",
       "\n",
       "  Precipitation_filled Wind_Speed_filled_mean Wind_Speed_filled_median  \n",
       "0                  0.0                    6.9                      6.9  \n",
       "1                  0.0                    0.0                      0.0  \n",
       "2                  0.0                   10.4                     10.4  \n",
       "3                  0.0                    9.0                      9.0  \n",
       "4                  0.0                    3.0                      3.0  \n",
       "\n",
       "[5 rows x 62 columns]"
      ]
     },
     "execution_count": 132,
     "metadata": {},
     "output_type": "execute_result"
    }
   ],
   "source": [
    "df.head()"
   ]
  },
  {
   "cell_type": "code",
   "execution_count": 133,
   "metadata": {},
   "outputs": [],
   "source": [
    "# Fill missing values for Humidity with mean:\n",
    "\n",
    "H_mean = df['Humidity(%)'].mean()\n",
    "df['Humidity_filled_mean'] = df['Humidity(%)'].fillna(H_mean)"
   ]
  },
  {
   "cell_type": "code",
   "execution_count": 134,
   "metadata": {},
   "outputs": [
    {
     "name": "stdout",
     "output_type": "stream",
     "text": [
      "count    392044.000000\n",
      "mean         65.398506\n",
      "std          22.577303\n",
      "min           1.000000\n",
      "25%          49.000000\n",
      "50%          68.000000\n",
      "75%          84.000000\n",
      "max         100.000000\n",
      "Name: Humidity(%), dtype: float64 count    400000.000000\n",
      "mean         65.398506\n",
      "std          22.351643\n",
      "min           1.000000\n",
      "25%          49.000000\n",
      "50%          67.000000\n",
      "75%          84.000000\n",
      "max         100.000000\n",
      "Name: Humidity_filled_mean, dtype: float64\n"
     ]
    }
   ],
   "source": [
    "print(df['Humidity(%)'].describe(), df['Humidity_filled_mean'].describe())"
   ]
  },
  {
   "cell_type": "code",
   "execution_count": 135,
   "metadata": {},
   "outputs": [],
   "source": [
    "# Fill missing values for Wind_Speed with mean:\n",
    "\n",
    "T_mean = df['Temperature(F)'].mean()\n",
    "df['Temperature_filled_mean'] = df['Temperature(F)'].fillna(T_mean)"
   ]
  },
  {
   "cell_type": "code",
   "execution_count": 136,
   "metadata": {},
   "outputs": [],
   "source": [
    "# Fill missing values for Temperature with median:\n",
    "\n",
    "T_median = df['Temperature(F)'].median()\n",
    "df['Temperature_filled_median'] = df['Temperature(F)'].fillna(T_median)"
   ]
  },
  {
   "cell_type": "code",
   "execution_count": 137,
   "metadata": {},
   "outputs": [
    {
     "name": "stdout",
     "output_type": "stream",
     "text": [
      "count    392443.000000\n",
      "mean         62.367451\n",
      "std          18.780979\n",
      "min         -77.800000\n",
      "25%          50.000000\n",
      "50%          64.400000\n",
      "75%          76.000000\n",
      "max         168.800000\n",
      "Name: Temperature(F), dtype: float64 count    400000.000000\n",
      "mean         62.367451\n",
      "std          18.602723\n",
      "min         -77.800000\n",
      "25%          51.000000\n",
      "50%          64.000000\n",
      "75%          75.900000\n",
      "max         168.800000\n",
      "Name: Temperature_filled_mean, dtype: float64 count    400000.000000\n",
      "mean         62.405851\n",
      "std          18.604781\n",
      "min         -77.800000\n",
      "25%          51.000000\n",
      "50%          64.400000\n",
      "75%          75.900000\n",
      "max         168.800000\n",
      "Name: Temperature_filled_median, dtype: float64\n"
     ]
    }
   ],
   "source": [
    "print(df['Temperature(F)'].describe(), df['Temperature_filled_mean'].describe(), \n",
    "df['Temperature_filled_median'].describe())"
   ]
  },
  {
   "cell_type": "code",
   "execution_count": 138,
   "metadata": {},
   "outputs": [
    {
     "data": {
      "text/plain": [
       "Index(['Unnamed: 0', 'ID', 'Source', 'TMC', 'Severity', 'Start_Time',\n",
       "       'End_Time', 'Start_Lat', 'Start_Lng', 'End_Lat', 'End_Lng',\n",
       "       'Distance(mi)', 'Description', 'Number', 'Street', 'Side', 'City',\n",
       "       'County', 'State', 'Zipcode', 'Country', 'Timezone', 'Airport_Code',\n",
       "       'Weather_Timestamp', 'Temperature(F)', 'Wind_Chill(F)', 'Humidity(%)',\n",
       "       'Pressure(in)', 'Visibility(mi)', 'Wind_Direction', 'Wind_Speed(mph)',\n",
       "       'Precipitation(in)', 'Weather_Condition', 'Amenity', 'Bump', 'Crossing',\n",
       "       'Give_Way', 'Junction', 'No_Exit', 'Railway', 'Roundabout', 'Station',\n",
       "       'Stop', 'Traffic_Calming', 'Traffic_Signal', 'Turning_Loop',\n",
       "       'Sunrise_Sunset', 'Civil_Twilight', 'Nautical_Twilight',\n",
       "       'Astronomical_Twilight', 'Day_of_Week', 'Hour_of_Day',\n",
       "       'Precipitation_wasnull', 'Wind_Chill_wasnull', 'Wind_Speed_wasnull',\n",
       "       'Visibility_wasnull', 'Humidity_wasnull', 'Temperature_wasnull',\n",
       "       'Pressure_wasnull', 'Precipitation_filled', 'Wind_Speed_filled_mean',\n",
       "       'Wind_Speed_filled_median', 'Humidity_filled_mean',\n",
       "       'Temperature_filled_mean', 'Temperature_filled_median'],\n",
       "      dtype='object')"
      ]
     },
     "execution_count": 138,
     "metadata": {},
     "output_type": "execute_result"
    }
   ],
   "source": [
    "df.columns"
   ]
  },
  {
   "cell_type": "code",
   "execution_count": 139,
   "metadata": {},
   "outputs": [],
   "source": [
    "# Fill missing values for Visibility with mean:\n",
    "\n",
    "Vis_mean = df['Visibility(mi)'].mean()\n",
    "df['Visibility_filled_mean'] = df['Visibility(mi)'].fillna(Vis_mean)"
   ]
  },
  {
   "cell_type": "code",
   "execution_count": 140,
   "metadata": {},
   "outputs": [
    {
     "name": "stdout",
     "output_type": "stream",
     "text": [
      "count    391156.000000\n",
      "mean          9.155309\n",
      "std           2.904976\n",
      "min           0.000000\n",
      "25%          10.000000\n",
      "50%          10.000000\n",
      "75%          10.000000\n",
      "max         111.000000\n",
      "Name: Visibility(mi), dtype: float64 count    400000.000000\n",
      "mean          9.155309\n",
      "std           2.872682\n",
      "min           0.000000\n",
      "25%          10.000000\n",
      "50%          10.000000\n",
      "75%          10.000000\n",
      "max         111.000000\n",
      "Name: Visibility_filled_mean, dtype: float64\n"
     ]
    }
   ],
   "source": [
    "print(df['Visibility(mi)'].describe(), df['Visibility_filled_mean'].describe())"
   ]
  },
  {
   "cell_type": "code",
   "execution_count": 141,
   "metadata": {},
   "outputs": [],
   "source": [
    "# Fill missing values for Pressure with mean:\n",
    "\n",
    "Pressure_mean = df['Pressure(in)'].mean()\n",
    "df['Pressure_filled_mean'] = df['Pressure(in)'].fillna(Pressure_mean)"
   ]
  },
  {
   "cell_type": "code",
   "execution_count": 142,
   "metadata": {},
   "outputs": [
    {
     "name": "stdout",
     "output_type": "stream",
     "text": [
      "count    393526.000000\n",
      "mean         29.829979\n",
      "std           0.733241\n",
      "min           0.300000\n",
      "25%          29.820000\n",
      "50%          29.980000\n",
      "75%          30.110000\n",
      "max          31.150000\n",
      "Name: Pressure(in), dtype: float64 count    400000.000000\n",
      "mean         29.829979\n",
      "std           0.727283\n",
      "min           0.300000\n",
      "25%          29.820000\n",
      "50%          29.970000\n",
      "75%          30.110000\n",
      "max          31.150000\n",
      "Name: Pressure_filled_mean, dtype: float64\n"
     ]
    }
   ],
   "source": [
    "print(df['Pressure(in)'].describe(), df['Pressure_filled_mean'].describe())"
   ]
  },
  {
   "cell_type": "code",
   "execution_count": 143,
   "metadata": {},
   "outputs": [],
   "source": [
    "# output file as csv\n",
    "#df.to_csv('dec19_400k_rs1_edt.csv')"
   ]
  },
  {
   "cell_type": "code",
   "execution_count": 144,
   "metadata": {},
   "outputs": [
    {
     "data": {
      "text/plain": [
       "Unnamed: 0                        0\n",
       "ID                                0\n",
       "Source                            0\n",
       "TMC                           98299\n",
       "Severity                          0\n",
       "Start_Time                        0\n",
       "End_Time                          0\n",
       "Start_Lat                         0\n",
       "Start_Lng                         0\n",
       "End_Lat                      301701\n",
       "End_Lng                      301701\n",
       "Distance(mi)                      0\n",
       "Description                       0\n",
       "Number                       258497\n",
       "Street                            0\n",
       "Side                              0\n",
       "City                             10\n",
       "County                            0\n",
       "State                             0\n",
       "Zipcode                         130\n",
       "Country                           0\n",
       "Timezone                        448\n",
       "Airport_Code                    787\n",
       "Weather_Timestamp              5017\n",
       "Temperature(F)                 7557\n",
       "Wind_Chill(F)                248928\n",
       "Humidity(%)                    7956\n",
       "Pressure(in)                   6474\n",
       "Visibility(mi)                 8844\n",
       "Wind_Direction                 6103\n",
       "Wind_Speed(mph)               58997\n",
       "Precipitation(in)            268748\n",
       "Weather_Condition              8830\n",
       "Amenity                           0\n",
       "Bump                              0\n",
       "Crossing                          0\n",
       "Give_Way                          0\n",
       "Junction                          0\n",
       "No_Exit                           0\n",
       "Railway                           0\n",
       "Roundabout                        0\n",
       "Station                           0\n",
       "Stop                              0\n",
       "Traffic_Calming                   0\n",
       "Traffic_Signal                    0\n",
       "Turning_Loop                      0\n",
       "Sunrise_Sunset                   11\n",
       "Civil_Twilight                   11\n",
       "Nautical_Twilight                11\n",
       "Astronomical_Twilight            11\n",
       "Day_of_Week                       0\n",
       "Hour_of_Day                       0\n",
       "Precipitation_wasnull             0\n",
       "Wind_Chill_wasnull                0\n",
       "Wind_Speed_wasnull                0\n",
       "Visibility_wasnull                0\n",
       "Humidity_wasnull                  0\n",
       "Temperature_wasnull               0\n",
       "Pressure_wasnull                  0\n",
       "Precipitation_filled              0\n",
       "Wind_Speed_filled_mean            0\n",
       "Wind_Speed_filled_median          0\n",
       "Humidity_filled_mean              0\n",
       "Temperature_filled_mean           0\n",
       "Temperature_filled_median         0\n",
       "Visibility_filled_mean            0\n",
       "Pressure_filled_mean              0\n",
       "dtype: int64"
      ]
     },
     "execution_count": 144,
     "metadata": {},
     "output_type": "execute_result"
    }
   ],
   "source": [
    "#Check no nulls in *filled columns\n",
    "pd.options.display.max_rows = 999\n",
    "df.isnull().sum()"
   ]
  },
  {
   "cell_type": "markdown",
   "metadata": {},
   "source": [
    "#### Convert Time_of_Day to Rush_Hour column:"
   ]
  },
  {
   "cell_type": "code",
   "execution_count": 146,
   "metadata": {},
   "outputs": [],
   "source": [
    "#Dictionary with hour of the day, and boolean indicating whether it's rush hour or not:\n",
    "rushhour_dict = {7:True,8:True,16:True,17:True, 0:False, 1:False, 2:False, 3:False, 4:False, 5:False,\n",
    "                6:False, 9:False, 10:False, 11:False, 12:False, 13:False, 14:False, 15:False, 18:False,\n",
    "                19:False, 20:False, 21:False, 22:False, 23:False}"
   ]
  },
  {
   "cell_type": "code",
   "execution_count": 173,
   "metadata": {},
   "outputs": [],
   "source": [
    "df['Rush_Hour'] = df['Hour_of_Day'] # copy Hour_of_Day column to 'new' Rush_Hour column"
   ]
  },
  {
   "cell_type": "code",
   "execution_count": 174,
   "metadata": {},
   "outputs": [],
   "source": [
    "df['Rush_Hour'] = df['Rush_Hour'].map(rushhour_dict) # map times to True or False"
   ]
  },
  {
   "cell_type": "code",
   "execution_count": 177,
   "metadata": {},
   "outputs": [
    {
     "data": {
      "image/png": "[encoded data removed]",
      "text/plain": [
       "<Figure size 432x288 with 1 Axes>"
      ]
     },
     "metadata": {
      "needs_background": "light"
     },
     "output_type": "display_data"
    }
   ],
   "source": [
    "sns.countplot(df['Rush_Hour']);  # plot resulting series"
   ]
  },
  {
   "cell_type": "code",
   "execution_count": 178,
   "metadata": {},
   "outputs": [
    {
     "data": {
      "image/png": "[encoded data removed]",
      "text/plain": [
       "<Figure size 432x288 with 1 Axes>"
      ]
     },
     "metadata": {
      "needs_background": "light"
     },
     "output_type": "display_data"
    }
   ],
   "source": [
    "sns.countplot(df['Hour_of_Day']); # check against Hour_of_Day column"
   ]
  },
  {
   "cell_type": "code",
   "execution_count": 186,
   "metadata": {},
   "outputs": [
    {
     "name": "stdout",
     "output_type": "stream",
     "text": [
      "<class 'pandas.core.frame.DataFrame'>\n",
      "RangeIndex: 400000 entries, 0 to 399999\n",
      "Data columns (total 68 columns):\n",
      "Unnamed: 0                   400000 non-null int64\n",
      "ID                           400000 non-null object\n",
      "Source                       400000 non-null object\n",
      "TMC                          301701 non-null float64\n",
      "Severity                     400000 non-null int64\n",
      "Start_Time                   400000 non-null datetime64[ns]\n",
      "End_Time                     400000 non-null datetime64[ns]\n",
      "Start_Lat                    400000 non-null float64\n",
      "Start_Lng                    400000 non-null float64\n",
      "End_Lat                      98299 non-null float64\n",
      "End_Lng                      98299 non-null float64\n",
      "Distance(mi)                 400000 non-null float64\n",
      "Description                  400000 non-null object\n",
      "Number                       141503 non-null float64\n",
      "Street                       400000 non-null object\n",
      "Side                         400000 non-null category\n",
      "City                         399990 non-null object\n",
      "County                       400000 non-null object\n",
      "State                        400000 non-null object\n",
      "Zipcode                      399870 non-null object\n",
      "Country                      400000 non-null object\n",
      "Timezone                     399552 non-null object\n",
      "Airport_Code                 399213 non-null object\n",
      "Weather_Timestamp            394983 non-null datetime64[ns]\n",
      "Temperature(F)               392443 non-null float64\n",
      "Wind_Chill(F)                151072 non-null float64\n",
      "Humidity(%)                  392044 non-null float64\n",
      "Pressure(in)                 393526 non-null float64\n",
      "Visibility(mi)               391156 non-null float64\n",
      "Wind_Direction               393897 non-null category\n",
      "Wind_Speed(mph)              341003 non-null float64\n",
      "Precipitation(in)            131252 non-null float64\n",
      "Weather_Condition            391170 non-null category\n",
      "Amenity                      400000 non-null bool\n",
      "Bump                         400000 non-null bool\n",
      "Crossing                     400000 non-null bool\n",
      "Give_Way                     400000 non-null bool\n",
      "Junction                     400000 non-null bool\n",
      "No_Exit                      400000 non-null bool\n",
      "Railway                      400000 non-null bool\n",
      "Roundabout                   400000 non-null bool\n",
      "Station                      400000 non-null bool\n",
      "Stop                         400000 non-null bool\n",
      "Traffic_Calming              400000 non-null bool\n",
      "Traffic_Signal               400000 non-null bool\n",
      "Turning_Loop                 400000 non-null bool\n",
      "Sunrise_Sunset               399989 non-null object\n",
      "Civil_Twilight               399989 non-null object\n",
      "Nautical_Twilight            399989 non-null object\n",
      "Astronomical_Twilight        399989 non-null object\n",
      "Day_of_Week                  400000 non-null category\n",
      "Hour_of_Day                  400000 non-null int64\n",
      "Precipitation_wasnull        400000 non-null bool\n",
      "Wind_Chill_wasnull           400000 non-null bool\n",
      "Wind_Speed_wasnull           400000 non-null bool\n",
      "Visibility_wasnull           400000 non-null bool\n",
      "Humidity_wasnull             400000 non-null bool\n",
      "Temperature_wasnull          400000 non-null bool\n",
      "Pressure_wasnull             400000 non-null bool\n",
      "Precipitation_filled         400000 non-null float64\n",
      "Wind_Speed_filled_mean       400000 non-null float64\n",
      "Wind_Speed_filled_median     400000 non-null float64\n",
      "Humidity_filled_mean         400000 non-null float64\n",
      "Temperature_filled_mean      400000 non-null float64\n",
      "Temperature_filled_median    400000 non-null float64\n",
      "Visibility_filled_mean       400000 non-null float64\n",
      "Pressure_filled_mean         400000 non-null float64\n",
      "Rush_Hour                    400000 non-null bool\n",
      "dtypes: bool(21), category(4), datetime64[ns](3), float64(22), int64(3), object(15)\n",
      "memory usage: 140.8+ MB\n"
     ]
    }
   ],
   "source": [
    "df.info()"
   ]
  },
  {
   "cell_type": "code",
   "execution_count": 188,
   "metadata": {},
   "outputs": [],
   "source": [
    "#df.to_csv('dec19_400k_rs1_edt.csv')"
   ]
  },
  {
   "cell_type": "markdown",
   "metadata": {},
   "source": [
    "#### Attach Predicted Wind_Chill Values & Output New File:"
   ]
  },
  {
   "cell_type": "code",
   "execution_count": 189,
   "metadata": {},
   "outputs": [],
   "source": [
    "# Read in file with Wind_Chill Predictions\n",
    "df33 = pd.read_csv('dec19_400k_rs1_edt_fillna.csv')"
   ]
  },
  {
   "cell_type": "code",
   "execution_count": 195,
   "metadata": {},
   "outputs": [],
   "source": [
    "# Attach Wind_Chill_predicted_filled column to dataframe:\n",
    "df['Wind_Chill_predicted_filled'] = df33['Wind_Chill_predicted_filled']"
   ]
  },
  {
   "cell_type": "code",
   "execution_count": 199,
   "metadata": {},
   "outputs": [],
   "source": [
    "# Output edited, dataframe (with infilled values):\n",
    "#df.to_csv('dec19_400k_rs1_edt_fillna.csv')"
   ]
  },
  {
   "cell_type": "code",
   "execution_count": null,
   "metadata": {},
   "outputs": [],
   "source": []
  }
 ],
 "metadata": {
  "kernelspec": {
   "display_name": "Python 3",
   "language": "python",
   "name": "python3"
  },
  "language_info": {
   "codemirror_mode": {
    "name": "ipython",
    "version": 3
   },
   "file_extension": ".py",
   "mimetype": "text/x-python",
   "name": "python",
   "nbconvert_exporter": "python",
   "pygments_lexer": "ipython3",
   "version": "3.7.3"
  }
 },
 "nbformat": 4,
 "nbformat_minor": 2
}
