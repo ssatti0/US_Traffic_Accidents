{
 "cells": [
  {
   "cell_type": "code",
   "execution_count": 1,
   "metadata": {},
   "outputs": [],
   "source": [
    "import pandas as pd\n",
    "import numpy as np\n",
    "import matplotlib.pyplot as plt\n",
    "import seaborn as sns\n",
    "from scipy import stats\n",
    "from IPython.display import display\n",
    "\n",
    "%matplotlib inline"
   ]
  },
  {
   "cell_type": "code",
   "execution_count": 2,
   "metadata": {},
   "outputs": [],
   "source": [
    "df = pd.read_csv('dec19_400k_rs1_edt_fillna_2.csv')"
   ]
  },
  {
   "cell_type": "code",
   "execution_count": 3,
   "metadata": {},
   "outputs": [],
   "source": [
    "T0 = df[df['Severity'] < 3].Temperature_filled_mean"
   ]
  },
  {
   "cell_type": "code",
   "execution_count": 4,
   "metadata": {},
   "outputs": [],
   "source": [
    "T1 = df[df['Severity'] >= 3].Temperature_filled_mean"
   ]
  },
  {
   "cell_type": "code",
   "execution_count": 5,
   "metadata": {},
   "outputs": [
    {
     "name": "stdout",
     "output_type": "stream",
     "text": [
      "Severity_less_than_3 count: 268324  |  Severity_3_and_above count: 131676\n"
     ]
    }
   ],
   "source": [
    "print(\"Severity_less_than_3 count:\",T0.count(),\" | \", \"Severity_3_and_above count:\",T1.count())\n"
   ]
  },
  {
   "cell_type": "markdown",
   "metadata": {},
   "source": [
    "### Hypothesis testing\n",
    "Three features were picked for hypothesis testing. <br>\n",
    "**Null Hypothesis:** Preciptation / Temperature /Humidity have no impact on severity of road accidents.<br>\n",
    "**Alternate hypothesis:** Precipitation / Temperature /humidity have an observable effect on severity of road accidents.<br>\n",
    "\n",
    "#### Split data into two samples: \n",
    "Low severity: Severity 1 & 2, [P0 / T0 / H0] (count: 268324) and <br>\n",
    "High severity : Severity 3 & 4 [P1 / T1 /H1] (count: 131676)\n",
    "\n",
    "#### Results:\n",
    "**Precipitation**: <br>\n",
    "Difference in mean of P0 and P1 = -0.00217 <br>\n",
    "Reject the null hypothesis since p-value is zero. Precipitation has an impact on road accident severity. <br>\n",
    "Lower severities are associated with lower mean precipitation, and higher precipitation is associated with more severe road accidents.<br>\n",
    "\n",
    "**Temperature**: <br>\n",
    "Number of samples T0 / T1: 268324 / 131676.\n",
    "Reject the null hypothesis since p-value is zero. Temperature does have an effect on accident severity. since T0 - T1 is positive(0.863), this implies the mean temperatures of severities 1 and 2 are *higer* than mean temperatures of severities 3 and 4. There seems to be a relationship between *lower* temperatures and more severe accidents.<br>\n",
    "\n",
    "**Humidity**:<br>\n",
    "Reject the null hypothesis.<br>\n",
    "*Higher* humidity is associated with more severe accidents. The mean difference in humidity between the two groups is about 0.9%.\n",
    "\n",
    "### Observations:\n",
    "Difference in the mean between the low severity and high severity groups is very small: 0.002inches for Precipitation, less than a degree F for Temperature, and less than 1% for Humidity.\n",
    "\n",
    "#### Sample datasize trials:\n",
    "A.1)  A sample of 1563, for the city of Columbus, was taken from the dataset, and the hypothesis tests re-run for 'Precipitation'. A p-value of 0.66 was obtained.<br>\n",
    "\n",
    "A.2)  A sample of 1651, for the city of Tampa taken from the dataset, and the hypothesis tests re-run for 'Precipitation'. A p-value of 0.287 was obtained.<br>\n",
    "\n",
    "B) Samples of different sizes were taken from the dataset. The table below summarizes the size and p-values for the 'Precipitation' hypotheses tests.\n",
    "\n",
    "| Number of Samples | 50 | 100| 4000| 20000|40000|80000|150000| 220000| 240000| 4.0e+05 |\n",
    "|------------------|-----|-----|-----|-----|-----|-----|------|-------|-------|----------|\n",
    "| p-values          | 0.798|0.267| 0.005|0.087|0.18|0.069|0.002| 0.0003|0.000016| 3.80e-07 |\n",
    "\n",
    "<br>\n",
    "\n",
    "__From the table, we can see a general trend of decreasing p-values as number of random samples increases, within the same dataset.__According to the figure below, 50000 seems to be the sample size beyond which there is a steady and stable decrease in p-values.\n",
    "\n",
    "Stratified sampling of two cities, Columbus and Tampa, shows high p-values at small sample sizes as well."
   ]
  },
  {
   "cell_type": "code",
   "execution_count": 6,
   "metadata": {},
   "outputs": [],
   "source": [
    "df_severity_under3 = df[df['Severity'] < 3]"
   ]
  },
  {
   "cell_type": "code",
   "execution_count": 7,
   "metadata": {},
   "outputs": [],
   "source": [
    "df_severity_over3 = df[df['Severity'] >= 3]"
   ]
  },
  {
   "cell_type": "code",
   "execution_count": 8,
   "metadata": {},
   "outputs": [],
   "source": [
    "P1 = df_severity_over3.Precipitation_filled\n",
    "P0 = df_severity_under3.Precipitation_filled"
   ]
  },
  {
   "cell_type": "code",
   "execution_count": 9,
   "metadata": {},
   "outputs": [],
   "source": [
    "T1 = df_severity_over3.Temperature_filled_mean\n",
    "T0 = df_severity_under3.Temperature_filled_mean"
   ]
  },
  {
   "cell_type": "code",
   "execution_count": 10,
   "metadata": {},
   "outputs": [],
   "source": [
    "H1 = df_severity_over3.Humidity_filled_mean\n",
    "H0 = df_severity_under3.Humidity_filled_mean"
   ]
  },
  {
   "cell_type": "markdown",
   "metadata": {},
   "source": [
    "##### calc_n_mean_std Function\n",
    "is used to centralize the calculation of mean, std and count for a series. These variables are used at different parts of the analysis in the form x[0] to extract the number of rows, x[1] the mean and x[2] the standard deviation of the 1D series."
   ]
  },
  {
   "cell_type": "code",
   "execution_count": 11,
   "metadata": {},
   "outputs": [],
   "source": [
    "def calc_n_mean_std(series):\n",
    "    \"\"\" calculate count, mean and standard deviation of input series\"\"\"\n",
    "    series_mean = round(np.mean(series), 5)\n",
    "    series_std = round(np.std(series), 3)\n",
    "    series_n = series.count()\n",
    "    return series_n, series_mean, series_std"
   ]
  },
  {
   "cell_type": "code",
   "execution_count": 12,
   "metadata": {},
   "outputs": [
    {
     "data": {
      "text/html": [
       "<div>\n",
       "<style scoped>\n",
       "    .dataframe tbody tr th:only-of-type {\n",
       "        vertical-align: middle;\n",
       "    }\n",
       "\n",
       "    .dataframe tbody tr th {\n",
       "        vertical-align: top;\n",
       "    }\n",
       "\n",
       "    .dataframe thead th {\n",
       "        text-align: right;\n",
       "    }\n",
       "</style>\n",
       "<table border=\"1\" class=\"dataframe\">\n",
       "  <thead>\n",
       "    <tr style=\"text-align: right;\">\n",
       "      <th></th>\n",
       "      <th>count, mean, std</th>\n",
       "    </tr>\n",
       "  </thead>\n",
       "  <tbody>\n",
       "    <tr>\n",
       "      <th>0</th>\n",
       "      <td>(268324, 0.00576, 0.122)</td>\n",
       "    </tr>\n",
       "    <tr>\n",
       "      <th>1</th>\n",
       "      <td>(131676, 0.00793, 0.136)</td>\n",
       "    </tr>\n",
       "  </tbody>\n",
       "</table>\n",
       "</div>"
      ],
      "text/plain": [
       "           count, mean, std\n",
       "0  (268324, 0.00576, 0.122)\n",
       "1  (131676, 0.00793, 0.136)"
      ]
     },
     "execution_count": 12,
     "metadata": {},
     "output_type": "execute_result"
    }
   ],
   "source": [
    "p1 = calc_n_mean_std(P1)\n",
    "p0 = calc_n_mean_std(P0)\n",
    "\n",
    "pd.DataFrame({'count, mean, std':(p0, p1)})"
   ]
  },
  {
   "cell_type": "code",
   "execution_count": 13,
   "metadata": {},
   "outputs": [
    {
     "data": {
      "text/plain": [
       "-0.002169999999999999"
      ]
     },
     "execution_count": 13,
     "metadata": {},
     "output_type": "execute_result"
    }
   ],
   "source": [
    "p0_p1_mean_diff = p0[1] - p1[1]\n",
    "p0_p1_mean_diff"
   ]
  },
  {
   "cell_type": "code",
   "execution_count": 14,
   "metadata": {},
   "outputs": [
    {
     "name": "stdout",
     "output_type": "stream",
     "text": [
      "p-value,  3.893993346897233e-07 is very small. Reject Null hypothesis.\n",
      "'P1' has bigger effect on severity, since, -5.074 is a -ve number\n"
     ]
    }
   ],
   "source": [
    "# calculating t-statistic and p-value using scipy.stats:\n",
    "\n",
    "tr = stats.ttest_ind(P0, P1, equal_var=True) # equal variance assumption\n",
    "print(\"p-value, \", tr[1], \"is very small. Reject Null hypothesis.\")\n",
    "print(\"'P1' has bigger effect on severity, since,\", round(tr[0], 3), \"is a -ve number\")"
   ]
  },
  {
   "cell_type": "code",
   "execution_count": 15,
   "metadata": {},
   "outputs": [
    {
     "data": {
      "text/html": [
       "<div>\n",
       "<style scoped>\n",
       "    .dataframe tbody tr th:only-of-type {\n",
       "        vertical-align: middle;\n",
       "    }\n",
       "\n",
       "    .dataframe tbody tr th {\n",
       "        vertical-align: top;\n",
       "    }\n",
       "\n",
       "    .dataframe thead th {\n",
       "        text-align: right;\n",
       "    }\n",
       "</style>\n",
       "<table border=\"1\" class=\"dataframe\">\n",
       "  <thead>\n",
       "    <tr style=\"text-align: right;\">\n",
       "      <th></th>\n",
       "      <th>count, mean, std</th>\n",
       "    </tr>\n",
       "  </thead>\n",
       "  <tbody>\n",
       "    <tr>\n",
       "      <th>0</th>\n",
       "      <td>(268324, 62.65176, 18.509)</td>\n",
       "    </tr>\n",
       "    <tr>\n",
       "      <th>1</th>\n",
       "      <td>(131676, 61.78809, 18.78)</td>\n",
       "    </tr>\n",
       "  </tbody>\n",
       "</table>\n",
       "</div>"
      ],
      "text/plain": [
       "             count, mean, std\n",
       "0  (268324, 62.65176, 18.509)\n",
       "1   (131676, 61.78809, 18.78)"
      ]
     },
     "execution_count": 15,
     "metadata": {},
     "output_type": "execute_result"
    }
   ],
   "source": [
    "t1 = calc_n_mean_std(T1)\n",
    "t0 = calc_n_mean_std(T0)\n",
    "\n",
    "pd.DataFrame({'count, mean, std':(t0, t1)})"
   ]
  },
  {
   "cell_type": "code",
   "execution_count": 16,
   "metadata": {},
   "outputs": [
    {
     "name": "stdout",
     "output_type": "stream",
     "text": [
      "p-value,  2.5489171974251004e-43 is very small. Reject Null hypothesis.\n",
      "'T0' has bigger effect on severity, since, 13.802 is a +ve number\n"
     ]
    }
   ],
   "source": [
    "# calculating t-statistic and p-value using scipy.stats:\n",
    "\n",
    "tr_t = stats.ttest_ind(T0, T1, equal_var=True) # equal variance assumption\n",
    "print(\"p-value, \", tr_t[1], \"is very small. Reject Null hypothesis.\")\n",
    "print(\"'T0' has bigger effect on severity, since,\", round(tr_t[0], 3), \"is a +ve number\")"
   ]
  },
  {
   "cell_type": "code",
   "execution_count": 17,
   "metadata": {},
   "outputs": [
    {
     "data": {
      "text/plain": [
       "0.8636700000000062"
      ]
     },
     "execution_count": 17,
     "metadata": {},
     "output_type": "execute_result"
    }
   ],
   "source": [
    "t0_t1_mean_diff = t0[1] - t1[1]\n",
    "t0_t1_mean_diff"
   ]
  },
  {
   "cell_type": "code",
   "execution_count": 18,
   "metadata": {},
   "outputs": [
    {
     "data": {
      "text/html": [
       "<div>\n",
       "<style scoped>\n",
       "    .dataframe tbody tr th:only-of-type {\n",
       "        vertical-align: middle;\n",
       "    }\n",
       "\n",
       "    .dataframe tbody tr th {\n",
       "        vertical-align: top;\n",
       "    }\n",
       "\n",
       "    .dataframe thead th {\n",
       "        text-align: right;\n",
       "    }\n",
       "</style>\n",
       "<table border=\"1\" class=\"dataframe\">\n",
       "  <thead>\n",
       "    <tr style=\"text-align: right;\">\n",
       "      <th></th>\n",
       "      <th>count, mean, std</th>\n",
       "    </tr>\n",
       "  </thead>\n",
       "  <tbody>\n",
       "    <tr>\n",
       "      <th>0</th>\n",
       "      <td>(268324, 65.10025, 22.556)</td>\n",
       "    </tr>\n",
       "    <tr>\n",
       "      <th>1</th>\n",
       "      <td>(131676, 66.00628, 21.917)</td>\n",
       "    </tr>\n",
       "  </tbody>\n",
       "</table>\n",
       "</div>"
      ],
      "text/plain": [
       "             count, mean, std\n",
       "0  (268324, 65.10025, 22.556)\n",
       "1  (131676, 66.00628, 21.917)"
      ]
     },
     "execution_count": 18,
     "metadata": {},
     "output_type": "execute_result"
    }
   ],
   "source": [
    "h1 = calc_n_mean_std(H1)\n",
    "h0 = calc_n_mean_std(H0)\n",
    "\n",
    "pd.DataFrame({'count, mean, std':(h0, h1)})"
   ]
  },
  {
   "cell_type": "code",
   "execution_count": 19,
   "metadata": {},
   "outputs": [
    {
     "name": "stdout",
     "output_type": "stream",
     "text": [
      "p-value,  4.688265062255147e-34 is very small. Reject Null hypothesis.\n",
      "'H1' has bigger effect on severity, since, -12.168 is a -ve number\n"
     ]
    }
   ],
   "source": [
    "# calculating t-statistic and p-value using scipy.stats:\n",
    "\n",
    "tr_h = stats.ttest_ind(H0, H1, equal_var=False) # equal variance assumption\n",
    "print(\"p-value, \", tr_h[1], \"is very small. Reject Null hypothesis.\")\n",
    "print(\"'H1' has bigger effect on severity, since,\", round(tr_h[0], 3), \"is a -ve number\")"
   ]
  },
  {
   "cell_type": "code",
   "execution_count": 20,
   "metadata": {},
   "outputs": [
    {
     "data": {
      "text/plain": [
       "-0.9060300000000012"
      ]
     },
     "execution_count": 20,
     "metadata": {},
     "output_type": "execute_result"
    }
   ],
   "source": [
    "h0_h1_mean_diff = h0[1] - h1[1]\n",
    "h0_h1_mean_diff"
   ]
  },
  {
   "cell_type": "markdown",
   "metadata": {},
   "source": [
    "### Trials: taking smaller samples for p-value calculations:\n",
    "\n",
    "   *Stratified Sampling*:<br>\n",
    "   A.1) A sample of the dataset (1563), covering only the city of Columbus,OH, is taken and the p-value calculated for 'Precipitation'.<br>\n",
    "    A.2) A sample dataset of similar size (1651) is also taken for city of Tampa, FL, and p-value calculated for 'Precipitation'. <br>\n",
    "    \n",
    "   *Simple Random sampling*:<br>\n",
    "    B) Progressively smaller samples of the dataset are taken, and the p-value calculated for 'Precipitation'."
   ]
  },
  {
   "cell_type": "markdown",
   "metadata": {},
   "source": [
    "#### A.1) City of Columbus p-value calculations for Precipitation:"
   ]
  },
  {
   "cell_type": "code",
   "execution_count": 21,
   "metadata": {},
   "outputs": [],
   "source": [
    "df_Columbus_under3 = df_severity_under3[df_severity_under3['City'] == 'Columbus']"
   ]
  },
  {
   "cell_type": "code",
   "execution_count": 22,
   "metadata": {},
   "outputs": [],
   "source": [
    "df_Columbus_over3 = df_severity_over3[df_severity_over3['City'] == 'Columbus']"
   ]
  },
  {
   "cell_type": "code",
   "execution_count": 23,
   "metadata": {},
   "outputs": [],
   "source": [
    "P1_columbus = df_Columbus_over3.Precipitation_filled\n",
    "P0_columbus = df_Columbus_under3.Precipitation_filled"
   ]
  },
  {
   "cell_type": "code",
   "execution_count": 24,
   "metadata": {},
   "outputs": [
    {
     "data": {
      "text/html": [
       "<div>\n",
       "<style scoped>\n",
       "    .dataframe tbody tr th:only-of-type {\n",
       "        vertical-align: middle;\n",
       "    }\n",
       "\n",
       "    .dataframe tbody tr th {\n",
       "        vertical-align: top;\n",
       "    }\n",
       "\n",
       "    .dataframe thead th {\n",
       "        text-align: right;\n",
       "    }\n",
       "</style>\n",
       "<table border=\"1\" class=\"dataframe\">\n",
       "  <thead>\n",
       "    <tr style=\"text-align: right;\">\n",
       "      <th></th>\n",
       "      <th>count, mean, std</th>\n",
       "    </tr>\n",
       "  </thead>\n",
       "  <tbody>\n",
       "    <tr>\n",
       "      <th>0</th>\n",
       "      <td>(768, 0.00611, 0.033)</td>\n",
       "    </tr>\n",
       "    <tr>\n",
       "      <th>1</th>\n",
       "      <td>(795, 0.00684, 0.034)</td>\n",
       "    </tr>\n",
       "  </tbody>\n",
       "</table>\n",
       "</div>"
      ],
      "text/plain": [
       "        count, mean, std\n",
       "0  (768, 0.00611, 0.033)\n",
       "1  (795, 0.00684, 0.034)"
      ]
     },
     "execution_count": 24,
     "metadata": {},
     "output_type": "execute_result"
    }
   ],
   "source": [
    "p0_columbus = calc_n_mean_std(P0_columbus)\n",
    "p1_columbus = calc_n_mean_std(P1_columbus)\n",
    "pd.DataFrame({'count, mean, std':(p0_columbus, p1_columbus)})"
   ]
  },
  {
   "cell_type": "code",
   "execution_count": 25,
   "metadata": {},
   "outputs": [
    {
     "name": "stdout",
     "output_type": "stream",
     "text": [
      "p-value,  0.6664821740422546 is a large number. Accept Null hypothesis.\n",
      "t-statistic is: -0.431\n"
     ]
    }
   ],
   "source": [
    "# calculating t-statistic and p-value using scipy.stats:\n",
    "\n",
    "tr_h = stats.ttest_ind(P0_columbus, P1_columbus, equal_var=True) # equal variance assumption\n",
    "print(\"p-value, \", tr_h[1], \"is a large number. Accept Null hypothesis.\")\n",
    "print(\"t-statistic is:\", round(tr_h[0], 3))"
   ]
  },
  {
   "cell_type": "markdown",
   "metadata": {},
   "source": [
    "#### A.2) City of Tampa p-value calculations for Precipitation:"
   ]
  },
  {
   "cell_type": "code",
   "execution_count": 26,
   "metadata": {},
   "outputs": [],
   "source": [
    "df_Tampa_under3 = df_severity_under3[df_severity_under3['City'] == 'Tampa']"
   ]
  },
  {
   "cell_type": "code",
   "execution_count": 27,
   "metadata": {},
   "outputs": [],
   "source": [
    "df_Tampa_over3 = df_severity_over3[df_severity_over3['City'] == 'Tampa']"
   ]
  },
  {
   "cell_type": "code",
   "execution_count": 28,
   "metadata": {},
   "outputs": [],
   "source": [
    "P1_tampa = df_Tampa_over3.Precipitation_filled\n",
    "P0_tampa = df_Tampa_under3.Precipitation_filled"
   ]
  },
  {
   "cell_type": "code",
   "execution_count": 29,
   "metadata": {},
   "outputs": [
    {
     "data": {
      "text/html": [
       "<div>\n",
       "<style scoped>\n",
       "    .dataframe tbody tr th:only-of-type {\n",
       "        vertical-align: middle;\n",
       "    }\n",
       "\n",
       "    .dataframe tbody tr th {\n",
       "        vertical-align: top;\n",
       "    }\n",
       "\n",
       "    .dataframe thead th {\n",
       "        text-align: right;\n",
       "    }\n",
       "</style>\n",
       "<table border=\"1\" class=\"dataframe\">\n",
       "  <thead>\n",
       "    <tr style=\"text-align: right;\">\n",
       "      <th></th>\n",
       "      <th>count, mean, std</th>\n",
       "    </tr>\n",
       "  </thead>\n",
       "  <tbody>\n",
       "    <tr>\n",
       "      <th>0</th>\n",
       "      <td>(921, 0.0035, 0.04)</td>\n",
       "    </tr>\n",
       "    <tr>\n",
       "      <th>1</th>\n",
       "      <td>(730, 0.00588, 0.05)</td>\n",
       "    </tr>\n",
       "  </tbody>\n",
       "</table>\n",
       "</div>"
      ],
      "text/plain": [
       "       count, mean, std\n",
       "0   (921, 0.0035, 0.04)\n",
       "1  (730, 0.00588, 0.05)"
      ]
     },
     "execution_count": 29,
     "metadata": {},
     "output_type": "execute_result"
    }
   ],
   "source": [
    "p0_tampa = calc_n_mean_std(P0_tampa)\n",
    "p1_tampa = calc_n_mean_std(P1_tampa)\n",
    "pd.DataFrame({'count, mean, std':(p0_tampa, p1_tampa)})"
   ]
  },
  {
   "cell_type": "code",
   "execution_count": 30,
   "metadata": {},
   "outputs": [
    {
     "name": "stdout",
     "output_type": "stream",
     "text": [
      "p-value,  0.28736123031076877 is a large number. Accept Null hypothesis.\n",
      "t-statistic is: -1.064\n"
     ]
    }
   ],
   "source": [
    "# calculating t-statistic and p-value using scipy.stats:\n",
    "\n",
    "tr_h = stats.ttest_ind(P0_tampa, P1_tampa, equal_var=True) # equal variance assumption\n",
    "print(\"p-value, \", tr_h[1], \"is a large number. Accept Null hypothesis.\")\n",
    "print(\"t-statistic is:\", round(tr_h[0], 3))"
   ]
  },
  {
   "cell_type": "markdown",
   "metadata": {},
   "source": [
    "#### B) P-value tests using different Number of Samples from the dataset:"
   ]
  },
  {
   "cell_type": "code",
   "execution_count": 31,
   "metadata": {},
   "outputs": [],
   "source": [
    "df_sample = df.sample(n=50, random_state=1) # change value of n for different tests"
   ]
  },
  {
   "cell_type": "code",
   "execution_count": 32,
   "metadata": {},
   "outputs": [],
   "source": [
    "df_sample_severity_under3 = df_sample[df_sample['Severity'] < 3]\n",
    "df_sample_severity_over3 = df_sample[df_sample['Severity'] >= 3]"
   ]
  },
  {
   "cell_type": "code",
   "execution_count": 33,
   "metadata": {},
   "outputs": [],
   "source": [
    "P1_sample = df_sample_severity_over3.Precipitation_filled\n",
    "P0_sample = df_sample_severity_under3.Precipitation_filled"
   ]
  },
  {
   "cell_type": "code",
   "execution_count": 34,
   "metadata": {},
   "outputs": [
    {
     "data": {
      "text/html": [
       "<div>\n",
       "<style scoped>\n",
       "    .dataframe tbody tr th:only-of-type {\n",
       "        vertical-align: middle;\n",
       "    }\n",
       "\n",
       "    .dataframe tbody tr th {\n",
       "        vertical-align: top;\n",
       "    }\n",
       "\n",
       "    .dataframe thead th {\n",
       "        text-align: right;\n",
       "    }\n",
       "</style>\n",
       "<table border=\"1\" class=\"dataframe\">\n",
       "  <thead>\n",
       "    <tr style=\"text-align: right;\">\n",
       "      <th></th>\n",
       "      <th>count, mean, std</th>\n",
       "    </tr>\n",
       "  </thead>\n",
       "  <tbody>\n",
       "    <tr>\n",
       "      <th>0</th>\n",
       "      <td>(34, 0.00265, 0.011)</td>\n",
       "    </tr>\n",
       "    <tr>\n",
       "      <th>1</th>\n",
       "      <td>(16, 0.00187, 0.007)</td>\n",
       "    </tr>\n",
       "  </tbody>\n",
       "</table>\n",
       "</div>"
      ],
      "text/plain": [
       "       count, mean, std\n",
       "0  (34, 0.00265, 0.011)\n",
       "1  (16, 0.00187, 0.007)"
      ]
     },
     "execution_count": 34,
     "metadata": {},
     "output_type": "execute_result"
    }
   ],
   "source": [
    "p0_sample = calc_n_mean_std(P0_sample)\n",
    "p1_sample = calc_n_mean_std(P1_sample)\n",
    "pd.DataFrame({'count, mean, std':(p0_sample, p1_sample)})"
   ]
  },
  {
   "cell_type": "code",
   "execution_count": 35,
   "metadata": {},
   "outputs": [
    {
     "name": "stdout",
     "output_type": "stream",
     "text": [
      "p-value,  0.7981187950892642 is a large number. Accept Null hypothesis.\n",
      "t-statistic is: 0.257\n"
     ]
    }
   ],
   "source": [
    "# calculating t-statistic and p-value using scipy.stats:\n",
    "\n",
    "tr_h = stats.ttest_ind(P0_sample, P1_sample, equal_var=True) # equal variance assumption\n",
    "print(\"p-value, \", tr_h[1], \"is a large number. Accept Null hypothesis.\")\n",
    "print(\"t-statistic is:\", round(tr_h[0], 3))"
   ]
  },
  {
   "cell_type": "markdown",
   "metadata": {},
   "source": [
    "#### Summary Table of p-values tests with different Number of Samples:"
   ]
  },
  {
   "cell_type": "code",
   "execution_count": 36,
   "metadata": {},
   "outputs": [],
   "source": [
    "data = {'Number_of_Samples': [50, 100, 400, 4000, 20000, 40000, 80000, 150000, 220000, 240000, 400000],\n",
    "        'p_value': [0.798,0.267, 0.037,0.005, 0.087, 0.18, 0.069, 0.002, 0.0003, 0.0000157, 3.8e-7]\n",
    "       }"
   ]
  },
  {
   "cell_type": "code",
   "execution_count": 37,
   "metadata": {},
   "outputs": [],
   "source": [
    "df_pvalues = pd.DataFrame(data,columns=['Number_of_Samples','p_value'])"
   ]
  },
  {
   "cell_type": "code",
   "execution_count": 52,
   "metadata": {},
   "outputs": [
    {
     "data": {
      "image/png": "[encoded data removed]",
      "text/plain": [
       "<Figure size 432x288 with 1 Axes>"
      ]
     },
     "metadata": {
      "needs_background": "light"
     },
     "output_type": "display_data"
    },
    {
     "data": {
      "image/png": "[encoded data removed]",
      "text/plain": [
       "<Figure size 432x288 with 1 Axes>"
      ]
     },
     "metadata": {
      "needs_background": "light"
     },
     "output_type": "display_data"
    }
   ],
   "source": [
    "# Plot p-values vrs Sample size:\n",
    "\n",
    "df_pvalues.plot(x ='Number_of_Samples', y='p_value', color='red',kind = 'scatter', xlim=[0,400000],ylim=[0, 0.3])\n",
    "plt.title('p-value vrs Number_of_Samples')\n",
    "df_pvalues.plot(x ='Number_of_Samples', y='p_value', kind = 'line', xlim=[0,400000],ylim=[0, 0.3],sharex=ax1)\n",
    "plt.show();"
   ]
  },
  {
   "cell_type": "code",
   "execution_count": 166,
   "metadata": {},
   "outputs": [
    {
     "data": {
      "text/html": [
       "<div>\n",
       "<style scoped>\n",
       "    .dataframe tbody tr th:only-of-type {\n",
       "        vertical-align: middle;\n",
       "    }\n",
       "\n",
       "    .dataframe tbody tr th {\n",
       "        vertical-align: top;\n",
       "    }\n",
       "\n",
       "    .dataframe thead th {\n",
       "        text-align: right;\n",
       "    }\n",
       "</style>\n",
       "<table border=\"1\" class=\"dataframe\">\n",
       "  <thead>\n",
       "    <tr style=\"text-align: right;\">\n",
       "      <th></th>\n",
       "      <th>0</th>\n",
       "      <th>1</th>\n",
       "      <th>2</th>\n",
       "      <th>3</th>\n",
       "      <th>4</th>\n",
       "      <th>5</th>\n",
       "      <th>6</th>\n",
       "      <th>7</th>\n",
       "      <th>8</th>\n",
       "      <th>9</th>\n",
       "      <th>10</th>\n",
       "    </tr>\n",
       "  </thead>\n",
       "  <tbody>\n",
       "    <tr>\n",
       "      <th>Number_of_Samples</th>\n",
       "      <td>50.000</td>\n",
       "      <td>100.000</td>\n",
       "      <td>400.000</td>\n",
       "      <td>4000.000</td>\n",
       "      <td>20000.000</td>\n",
       "      <td>40000.00</td>\n",
       "      <td>80000.000</td>\n",
       "      <td>150000.000</td>\n",
       "      <td>220000.0000</td>\n",
       "      <td>240000.000000</td>\n",
       "      <td>4.000000e+05</td>\n",
       "    </tr>\n",
       "    <tr>\n",
       "      <th>p_value</th>\n",
       "      <td>0.798</td>\n",
       "      <td>0.267</td>\n",
       "      <td>0.037</td>\n",
       "      <td>0.005</td>\n",
       "      <td>0.087</td>\n",
       "      <td>0.18</td>\n",
       "      <td>0.069</td>\n",
       "      <td>0.002</td>\n",
       "      <td>0.0003</td>\n",
       "      <td>0.000016</td>\n",
       "      <td>3.800000e-07</td>\n",
       "    </tr>\n",
       "  </tbody>\n",
       "</table>\n",
       "</div>"
      ],
      "text/plain": [
       "                       0        1        2         3          4         5   \\\n",
       "Number_of_Samples  50.000  100.000  400.000  4000.000  20000.000  40000.00   \n",
       "p_value             0.798    0.267    0.037     0.005      0.087      0.18   \n",
       "\n",
       "                          6           7            8              9   \\\n",
       "Number_of_Samples  80000.000  150000.000  220000.0000  240000.000000   \n",
       "p_value                0.069       0.002       0.0003       0.000016   \n",
       "\n",
       "                             10  \n",
       "Number_of_Samples  4.000000e+05  \n",
       "p_value            3.800000e-07  "
      ]
     },
     "execution_count": 166,
     "metadata": {},
     "output_type": "execute_result"
    }
   ],
   "source": [
    "df_pvalues.transpose()"
   ]
  },
  {
   "cell_type": "code",
   "execution_count": null,
   "metadata": {},
   "outputs": [],
   "source": []
  }
 ],
 "metadata": {
  "kernelspec": {
   "display_name": "Python 3",
   "language": "python",
   "name": "python3"
  },
  "language_info": {
   "codemirror_mode": {
    "name": "ipython",
    "version": 3
   },
   "file_extension": ".py",
   "mimetype": "text/x-python",
   "name": "python",
   "nbconvert_exporter": "python",
   "pygments_lexer": "ipython3",
   "version": "3.7.3"
  }
 },
 "nbformat": 4,
 "nbformat_minor": 2
}
