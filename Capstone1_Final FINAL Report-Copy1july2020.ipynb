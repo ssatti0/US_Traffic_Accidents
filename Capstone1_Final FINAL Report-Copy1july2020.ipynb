{
 "cells": [
  {
   "cell_type": "markdown",
   "metadata": {},
   "source": [
    "# Capstone 1 Project:  Final Report   \n",
    "## US Traffic Accidents  \n",
    "### *Sara Satti, July 2020*"
   ]
  },
  {
   "cell_type": "markdown",
   "metadata": {},
   "source": [
    "**++++++++++++++++++++++++++++++++++++++++++++++++++++++++++++++++++++++++++++++++++++++++++++++++++++++++++++++++++++**"
   ]
  },
  {
   "cell_type": "markdown",
   "metadata": {},
   "source": [
    "## Table of Contents\n",
    "### Problem Statement\n",
    "### Executive Summary\n",
    "### Dataset\n",
    "### Objective\n",
    "### Data Wrangling\n",
    "+ Methodology\n",
    "\n",
    "### Exploratory Data Analysis\n",
    "+ Observations and Findings\n",
    "+ Statistics\n",
    "+ Summary\n",
    "### Machine Learning\n",
    "\n",
    "+ Data Preparation\n",
    "+ Cross Validation\n",
    "+ Decision point: multi-class or binary?\n",
    "+ Machine Learning:\n",
    "    + Logistic Regression\n",
    "        + Coefficients\n",
    "    + Random Forest\n",
    "+ Summary and Conclusions\n",
    "+ Recommended Future Work<br>\n",
    "### Recommended Future Work<br>\n",
    "### References"
   ]
  },
  {
   "cell_type": "markdown",
   "metadata": {},
   "source": [
    "## Problem Statement: \n",
    "Car accidents in the US average 6million every year, with 3million injuries and over 30,000 fatalities. In fact they are the leading cause of death among healthy Americans. As a result, millions of dollars are spent in medical bills, rapid response teams deployment, and destroyed property. The ability to predict the occurance of accidents given weather conditions, time of day, day of the week, and points of interest will have positive repurcussions in fiscal planning, and policies, or even in planning family roadtrip times.\n"
   ]
  },
  {
   "cell_type": "markdown",
   "metadata": {},
   "source": [
    "## Executive Summary:\n",
    "\n",
    "In predicting the severity of road accidents, four machine learning classification methods were tried: Stochastic Gradient Descent(SGD), K Nearest Neighbor(KNN), Logistic Regression and Random Forest. The resulting cross-validation scores differed by up to 28%, mostly depending on the method used, and presence or absence of scaling. The features used in the cross-validation were divided into five subsets. The first subset included only the logitude, latitude, distance, and numerical weather data, while other categorical features were added in each successive subset. The maximum number of features included in a feature_subset was 89. The different feature_subsets did not result in big variations in the score. The exception is SGD.<br>\n",
    "\n",
    "The initial 4 classes of severity were consolidated into 2classes: 'low' and 'high'. This gave higher accuracy results while reducing unnecessary computation time. The resulting confusion matrix had less zero filled cells.\n",
    "\n",
    "Random Forest yielded the best accuracy and f1_scores. It predicted the correct severity (whether 'low' or 'high') 78% of the time. The remaining 22% were incorrectly predicted.<br>\n",
    "\n",
    "Depending on the ultimate purpose for using this model, it might be better to focus more on precision or recall values. However, for the better overall model a high f1_score is better which was the case for this project.<br>\n",
    "\n",
    "General findings of the project are:<br>\n",
    "_ The days and times with the least accidents are Sundays followed by Saturdays. The odds of a high severity accident are also low during the weekend, as indicated by the negative coefficient values of the Logistic Regression.<br> \n",
    "_ During the week, 1-3am have the least accidents while morning rush hour has the most.<br>\n",
    "_ Counter-intuitively, 'Clear' and 'Mostly Cloudy' days have the highest number of accidents.<br>\n",
    "_ Even though California, Texas and Florida have the highest **total** number of accidents, the **most severe** occur in Florida, followed by Georgia and California.<br>\n",
    "_ States with the **least** number of severity level 4 accidents are North Dakota, South Dakota and Vermont.<br> \n",
    "_ Cities with the highest number of **total** accidents are Houston, Charlotte and Lost Angeles. Those with the **most level 4** accidents are Miami, Atlanta and Houston.<br>\n",
    "_ Of the amenities present in the dataset, most accidents happen at Traffic Signals, Junctions and Crossings.<br>\n",
    "_ Severity level 2 and 4 accidents have steadily increased since 2016, but level 3 seems to be on the decline since 2018 (data is only until December 2019).<br>\n",
    "_ The **total** number of accidents is fluctuating, but overall is showing a steady increase for the period captured in the dataset.<br>\n",
    "_ Logistic regression showed positive coefficients for the Eastern states, and negative coefficients for the Western states. This corresponds to greater odds of high severity accidents in the East than the West.\n",
    "_ Logistic regresson coefficients for Latitude and Longitude were also negative, indicating a low probability ration of high severity accidents with increasing Lat/Long numbers(i.e. towards the West and North).\n",
    " "
   ]
  },
  {
   "cell_type": "markdown",
   "metadata": {},
   "source": [
    "<img src=\"https://github.com/ssatti0/Springboard_work/blob/master/Capstone%201%20project/Figures/accidents_map.png?raw=true\">"
   ]
  },
  {
   "cell_type": "markdown",
   "metadata": {},
   "source": [
    "## Dataset:\n",
    "The dataset contains close to 3million accident records from 49 states in the United States. This [Kaggle dataset](https://www.kaggle.com/sobhanmoosavi/us-accidents) is compiled by Sobhan Moosavi etal, and is intermittently updated with new data. The version used for this study covers the period *February 2016 to December 2019*, it was collated from several data sources, including the US and state departments of transportation, law enforcement agencies, traffic cameras, and traffic sensors within the road-networks.\n",
    "The dataset contains a rich variety of data types to be experimented with. In the Data Wrangling section, we'll have a closer look at the data types present, and statistics on the numerical data.\n",
    "\n",
    "## Objective:\n",
    "This project has three distinct stages: Data Wrangling, Exploratory Data Analysis(EDA), and Machine Learning.<br>\n",
    "Data Wrangling: involves infilling and tagging the data cells using appropriate methods.<br>\n",
    "EDA: is an exploration of the various attributes in the dataset and their intertwined relationships. It is expected to answer a few questions such as:\n",
    "+ Which states have the highest number of road accidents? <br>\n",
    "+ Is the state with the highest number of accidents also the one with the most severe? <br>\n",
    "+ Which time of day, and day of the week, do those severe accidents happen? <br>\n",
    "+ Is inclement weather a factor? <br>\n",
    "+ Are accidents more prevalent on the Left or Right side of the street? <br>\n",
    "+ What role do points of interest (amenities, bumps, traffic lights, junctions etc.) play?<br>\n",
    "\n",
    "Ultimately, the project will attempt to predict road accidents given certain weather conditions, points of interest, and locations. Sometimes accidents are categorized by **Severity**(1 reprensting a slight accident and 4 signifying highway closure), and at other times the aggregate or **total** number of accidents is taken into consideration.\n"
   ]
  },
  {
   "cell_type": "markdown",
   "metadata": {},
   "source": [
    "## Data Wrangling:\n",
    "\n",
    "The _data Wrangling Jupyter Notebook_ can be accessed [here!](https://github.com/ssatti0/Springboard_work/blob/master/Capstone%201%20project/Data%20Wrangling_US%20Accidents%20Dec19.ipynb). <br>\n",
    "\n",
    "An initial look at the data, shows there are 49 columns/features in the dataset, with the numerical, and boolean data clearly categorized. The data marked \"object\" is either binary (Day/Night) as is in the case of 'Sunrise_Sunset' and 'Civil_Twighlight' features, or datetime as in 'Start_Time', 'End_Time' and 'Weather_Timestamp'. Categorical data such as 'State', and 'Weather_Condition' is also marked \"object\".\n",
    "\n",
    "*Data columns:* <br> 'ID', 'Source', 'TMC', 'Severity', 'Start_Time', 'End_Time',\n",
    "       'Start_Lat', 'Start_Lng', 'End_Lat', 'End_Lng', 'Distance(mi)',\n",
    "       'Description', 'Number', 'Street', 'Side', 'City', 'County', 'State',\n",
    "       'Zipcode', 'Country', 'Timezone', 'Airport_Code', 'Weather_Timestamp',\n",
    "       'Temperature(F)', 'Wind_Chill(F)', 'Humidity(%)', 'Pressure(in)',\n",
    "       'Visibility(mi)', 'Wind_Direction', 'Wind_Speed(mph)',\n",
    "       'Precipitation(in)', 'Weather_Condition', 'Amenity', 'Bump', 'Crossing',\n",
    "       'Give_Way', 'Junction', 'No_Exit', 'Railway', 'Roundabout', 'Station',\n",
    "       'Stop', 'Traffic_Calming', 'Traffic_Signal', 'Turning_Loop',\n",
    "       'Sunrise_Sunset', 'Civil_Twilight', 'Nautical_Twilight',\n",
    "       'Astronomical_Twilight'"
   ]
  },
  {
   "cell_type": "markdown",
   "metadata": {},
   "source": [
    "#### Methodology:\n",
    "* Random sampling of the data - to reduce data size from 3million to 400K rows. This was necessary due to hardware limitations.\n",
    "* Extract Day_of_Week and Time_of_Day from datetime data, and add as columns to dataframe.\n",
    "* From Time_of_Day column, prepare Rush_Hour categorical column and attach to dataframe.\n",
    "* Get null counts on data columns, and add a 'wasnull' column.\n",
    "<img src=\"https://github.com/ssatti0/Springboard_work/blob/master/Capstone%201%20project/Figures/non_zero%20missing%20data.png?raw=true\"> \n",
    "* InFill missing weather values: Precipitation, Temperature, Humidity, Wind_Speed, Pressure and Visibility.\n",
    "* Estimate Wind-Chill factor using LinearRegression, and infill missing values.\n",
    "* Save edited file.\n",
    "\n",
    "*Wind_Chill prediction tests* can be found in [this Jupyter Notebook](https://github.com/ssatti0/Springboard_work/blob/master/Capstone%201%20project/Wind_Chill%20Prediction%20tests.ipynb)"
   ]
  },
  {
   "cell_type": "markdown",
   "metadata": {},
   "source": [
    "## Exploratory Data Analysis (Data Story):\n",
    "\n",
    "The detailed analysis and code can be found in [Data Storytelling](https://github.com/ssatti0/Springboard_work/blob/master/Capstone%201%20project/Data%20Storytelling.ipynb) Jupyter Notebook.<br>\n",
    "\n",
    "### Below is a summary of the main findings:\n",
    "  .1. Fridays are the most dangerous days on the roads, that's when the greater number of most severe accidents happen. This makes sense, intuitively, since Fridays are the end of the workweek, when most people are probably exhausted.<br>\n",
    "Tuesday, seems to be the day of highest **total** number of accidents.\n",
    "<img src=\"https://github.com/ssatti0/Springboard_work/blob/master/Capstone%201%20project/Figures/severity_count_by_day_of_week.png?raw=true\">\n",
    "\n",
    "Even though Friday, according to the table below, has the maximum number of accidents in levels 1, 3 and 4, the **total** number of accidents occurs on Tuesdays because it has the maximum number of level 2 accidents which is more than in the other 3 levels *combined*.\n",
    "The safest day of the week, is Sunday.<br>\n",
    "<img src=\"https://github.com/ssatti0/US_Traffic_Accidents/blob/master/Figures/GoogleSlide_img1_severitybydayofweek.png?raw=true\">\n",
    "  .2. Most accidents occur during the day, on clear weather days, close to Traffic signals, Junctions and Crossings. This is probably because of the higher volume of traffice during the daytime. Drivers tend to drive more carefully when the weather is not clear. As for traffic signals, that's where pedestrians, and traffic tend to converge which probably requires a hightened sense of altertness and attention.\n",
    "<img src=\"https://github.com/ssatti0/Springboard_work/blob/master/Capstone%201%20project/Figures/top10_weather_conditions_affecting_number_of_accidents.png?raw=true\">\n",
    "\n",
    "<img src=\"https://github.com/ssatti0/Springboard_work/blob/master/Capstone%201%20project/Figures/accidents_near_points_of_interest.png?raw=true\">\n",
    "\n",
    "  .3. Rush hour (7 to 8am, and 4 to 5pm) is another time where accident occurance spikes. This coincides with the time of day when traffic volume is highest. There is a sense of urgency involved too when people have to get to work, school or back home. The end of the day, is probably when people are tired after a long day at work.\n",
    "\n",
    "<img src=\"https://github.com/ssatti0/Springboard_work/blob/master/Capstone%201%20project/Figures/number_of_accidents_by_time_of_day.png?raw=true\">\n"
   ]
  },
  {
   "cell_type": "markdown",
   "metadata": {},
   "source": [
    "  .4. For *highest* number of *total* accidents, Texas and California are the top states, not a surprising fact given that these two states have the highest populations in the US.  Houston, Charlotte and Los Angeles appear as the top cities in this category. Charlotte is a surprise in the second place, since North Carolina is the fifth state in terms of total accidents. A possible explanation is that Charlotte has an anomalously high number compared to other parts of the state.\n",
    "\n",
    "<img src=\"https://github.com/ssatti0/Springboard_work/blob/master/Capstone%201%20project/Figures/total_number_of_accidents_by_state.png?raw=true\">\n",
    "\n",
    "<img src=\"https://github.com/ssatti0/Springboard_work/blob/master/Capstone%201%20project/Figures/total_number_of_accidents_by_city.png?raw=true\">\n",
    "\n",
    "  .5. The most *severe* accidents occur in Florida and Georgia, with Miami and Atlanta being the top cities in the nation with the most severe accidents. \n",
    "Florida, however, ranks a very close second, after Maine, in terms of population age. The state has 20.5% adults over the age of 65. In addition, it ranks eights in terms of population density.<br>\n",
    "Atlanta's position is unexpected since the city is not even in the top 35 in terms of population. Population density ranking is even further down the list.<br> \n",
    "<img src=\"https://github.com/ssatti0/Springboard_work/blob/master/Capstone%201%20project/Figures/most_severe_accidents_by_state.png?raw=true\">\n",
    "\n",
    "<img src=\"https://github.com/ssatti0/Springboard_work/blob/master/Capstone%201%20project/Figures/top20_cities_with_most_severe_accidents.png?raw=true\">\n",
    "\n",
    "  .6. There is an overall increasing trend in the total number of accidents in the country between Feb2016 and Dec 2019. This seems counter intuitive when compared to the 31% drop in total car sales in the US between 2016 and 2019. Are people driving older cars by opting not to change models as often? Are state budgets being allocated elsewhere such that road maintenance, and road safety campaigns are bearing the brunt?\n",
    "<img src=\"https://github.com/ssatti0/Springboard_work/blob/master/Capstone%201%20project/Figures/annual_accident_count_in400k_dataset.png?raw=true\">\n",
    "\n",
    "<img src=\"https://github.com/ssatti0/Springboard_work/blob/master/Capstone%201%20project/Figures/monthly_accident_count_in400k_dataset_Feb16_Dec19.png?raw=true\">"
   ]
  },
  {
   "cell_type": "markdown",
   "metadata": {},
   "source": [
    "### Statistics:\n"
   ]
  },
  {
   "cell_type": "markdown",
   "metadata": {},
   "source": [
    "Three steps of statistical analysis were run at different stages of the project:\n",
    "\n",
    "__A.__ Running the .describe() on the dataframe (table shown below) gives us an idea about the basic statistics of the numerical features present. Severity is an integer value with a mean of 2.36. \n",
    "Visibility has a minimum of 0. and a mximum of 111miles.<br>\n",
    "A desicion was made to take the outliers as extreme weather values, and not to delete or edit these values from the dataset.\n",
    "\n"
   ]
  },
  {
   "cell_type": "markdown",
   "metadata": {},
   "source": [
    "<img src=\"https://github.com/ssatti0/US_Traffic_Accidents/blob/master/Figures/GoogleSide_img2_Describe_stat%20report.png?raw=true\">"
   ]
  },
  {
   "cell_type": "markdown",
   "metadata": {},
   "source": [
    "__B.__ Looking at the correlations between the different features and the target. The highest correlations for Severity, respectively, are with Distance, Day-of-the-week and Start_Long, and Start_Lat. All of them are positive. Some are intuitive, as Distance increases, the implication is that the Severity gets higher. But others are not, such as with Start_Lat."
   ]
  },
  {
   "cell_type": "markdown",
   "metadata": {},
   "source": [
    "<img src=\"https://github.com/ssatti0/US_Traffic_Accidents/blob/master/Figures/correlation_matrix.png?raw=true\">"
   ]
  },
  {
   "cell_type": "markdown",
   "metadata": {},
   "source": [
    "__C.__ Hypothesis testing to gain insight on the effect of weather conditions on traffic accident occurance.<br> An indepth look at the analysis is in the [US_Accidents_Statistics](https://github.com/ssatti0/Springboard_work/blob/master/Capstone%201%20project/US_Accidents_Statistical%20Analysis.ipynb) Jupyter notebook.<br> \n",
    "In summary, weather conditions DO have an impact on road accident severity, however, the number of samples used in the analysis can affect the outcome. \n"
   ]
  },
  {
   "cell_type": "markdown",
   "metadata": {},
   "source": [
    "#### Summary:\n",
    "At this point we have answers to the questions posed at the begining of the EDA. \n",
    "+ Which states have the highest number of road accidents? <br>\n",
    "*Florida, Georgia, California, New York and Ohio have the highest number of road accidents.*<br>\n",
    "<br>\n",
    "+ Is the state with the highest number of accidents also the one with the most severe? <br>\n",
    "*Even though some states appear in both severest and total number of accidents, their ranking varies. The top 5 states with total number of accidents are: California, Texas, Florida, South Carolina and North Carlina.*<br>\n",
    "<br>\n",
    "+ Which time of day, and day of the week, do those severe accidents happen? <br>\n",
    "*Rush hour (7-8am and 4-5pm) is the time when most accidents occur. In other words, Daytime has a higher volume of accidents than Nighttime.<br>\n",
    "Even though Fridays have the highest numbers of level 1,3 and 4 accidents, they are **not** the day of the week with the highest number of overall accidents. Tuesdays do.<br>*\n",
    "<br>\n",
    "+ Is inclement weather a factor? <br>\n",
    "*Yes, 'Clear' days are the most dangers on the roads with a total number of accidents that are more than double those on 'Mostly Cloudy' days.\n",
    "Accidents seem to happen during cloudy days more than during rainy or snowy days, which seems counter intuitive.<br>*\n",
    "<br>\n",
    "+ Are accidents more prevalent on the Left or Right side of the street? <br>\n",
    "*Accidents are more prevalent on the Right side.<br>*\n",
    "<br>\n",
    "+ What role do points of interest (amenities, bumps, traffic lights, junctions etc.) play?<br>\n",
    "*Traffic Signals, Junctions and Crossings are point_of_interest sites with most accidents. Bumps, Round_Abouts and No_Exit places have no accidents associated with them.*"
   ]
  },
  {
   "cell_type": "markdown",
   "metadata": {},
   "source": [
    "## Machine Learning:\n",
    "The detailed analysis and code can be found in the [Modeling and InDepth Analysis](https://github.com/ssatti0/US_Traffic_Accidents/blob/master/US_Accidents_Modeling_and_InDepth_Analysis.ipynb) Jupyter Notebook.<br>\n"
   ]
  },
  {
   "cell_type": "markdown",
   "metadata": {},
   "source": [
    "This section consists of:<br>\n",
    "+ Data Preparation\n",
    "+ Cross Validation\n",
    "+ Decision point: multi-class or binary?\n",
    "+ Machine Learning:\n",
    "    + Logistic Regression\n",
    "        + Coefficients\n",
    "    + Random Forest\n",
    "+ Summary and Conclusions\n",
    "+ Recommended Future Work"
   ]
  },
  {
   "cell_type": "markdown",
   "metadata": {},
   "source": [
    "#### Data Preparation\n",
    "\n",
    "After loading, the data was feature engineered in preparation for use in model choice and hyper-parameter testing. This was done by starting with a 'basic' feature subset containing only numeric data, followed by subsequent additions of other categorical features such as 'Traffic Signal', 'Junction', 'Rush_Hour', 'Day_of_Week', 'State','Side', and 'wasnull*', etc.<br> \n",
    "\n",
    "The full list of features, and subsets and how they were grouped is detailed in the <font size = '2'> **Data Preparation for Testing** </font> part of section <font size='2'> **A) Feature Engineering** </font>, in the Jupyter Notebook.<br>\n",
    "\n",
    "#### Cross-Validation\n",
    "Next the data was resampled to 50k rows, and all 5 feature_subsets were used to train 4 different classification algorithms: *Stochastic Gradient Descent*, *K-Nearest Neighbor*, *Logistic Regression*, and *Random Forest*. the features were scaled and unscaled prior to splitting into train and test data. The best performing model is Random Forest (0.74 accuracy score), and it did not matter whether the features were scaled or not. This is followed by Logistic Regression at 69.7% accuracy score when features were scaled. <br>\n",
    "The figures below show the results. "
   ]
  },
  {
   "cell_type": "markdown",
   "metadata": {},
   "source": [
    "<img src=\"https://github.com/ssatti0/US_Traffic_Accidents/blob/master/Figures/Xval_Noscale_Scale.png?raw=true\">\n"
   ]
  },
  {
   "cell_type": "markdown",
   "metadata": {},
   "source": [
    "#### MultiClass or Binary?\n",
    "Next, hyperparameter tuning was carried out for the logisticRegression. Plotting the classification matrix indicated that severity 1 is a very small class such that only 3 data points are in the test set, and it is never predicted by the model(see figure below). Severity 4 is represented by 492 out of the 15,000 test samples. Meanwhile, severity 2 is 10,024 and severity 3 is 4481 samples of the test set. At this point, we decided to run 2 models, one with all 4 severity classes and another with classes 'high' containing severity 3 and 4, and class 'low' containing severities 1 and 2.<br>\n",
    "Since the main objective of this study is to predict road accident severity, and since severities 1 and 4, combined, only form 3.4% of the dataset, splitting the data into 'high' and 'low' is still expected to provide answers.<br>\n",
    "<img src=\"https://github.com/ssatti0/US_Traffic_Accidents/blob/master/Figures/Googleslide_img5_ConfusionMatrices_multiClass_binary.png?raw=true\">\n",
    "\n",
    "\n",
    "From, the classification matrices below, we can see that the consolidation of the classes results in easier to interpret and non-redundant scores. However, from the f1_score, we can see that this model is twice as good at predicting 'low' severity as 'high'. This bias is rectified by using a differnt model (Random Forest), which also improved the overall performance.\n",
    "<img src=\"https://github.com/ssatti0/US_Traffic_Accidents/blob/master/Figures/GoogleSlide_img4_MultiClass_Binary_Classfreport.png?raw=true\">\n",
    "In this project, False Positives and False negatives etc. are explained below: \n",
    "+ True Positives are those which are predicted as *high* which are actually *high*<br>\n",
    "+ False Positives are those which are predicted as *high* which are actually *low*<br>\n",
    "+ True Negatives are those which are predicted as *low* which are actually *low*<br>\n",
    "+ False Negatives are those which are predicted *low* which are actually *high*<br>\n",
    "\n",
    "The FP(false positive) means a 'low' was predicted as 'high'. This translates to a prediction of less severity and delays, yet the opposite happens. Practically, and in terms of allocation of resources, road signage and maintenance, it implies 'over allocation and under useage'.<br>\n",
    "\n",
    "FN(false negative) means a 'high' was predicted as 'low'. The prediction here foretells of less severity and less delays, but the opposite, in fact takes place. Generally, this scenario also results in mis-managment and perhaps under allocation of resources where they are needed.<br>\n",
    "If the focus of the model is prediction of this type of scenario, then we would like the **recall to be high**, and precision is of lesser importance.\n",
    "However, if we would like to reduce the false positives too, or we would like the best **overall** model, then the the preference is for a higher f1_score and accuracy.<br>"
   ]
  },
  {
   "cell_type": "markdown",
   "metadata": {},
   "source": [
    "#### Machine Learning:\n",
    "##### Logistic Regression:\n",
    "As mentioned above, this was the first model utilized in solving the problem. An accuracy of 70% was achieved after hyper-parameter tuning, however the model was highly biased in its predictions of 'low' severity. It was used to decide whether to move forward with a multiclass or binary target.<br>\n",
    "\n",
    "##### Coefficients:\n",
    "The Logistic Regression coefficients, are calculated as the log of the odds of a high severity accident( 𝑙𝑜𝑔(𝑝𝑟𝑜𝑏𝑎𝑏𝑖𝑙𝑖𝑡𝑦 ℎ𝑖𝑔ℎ 𝑠𝑒𝑣𝑒𝑟𝑖𝑡𝑦/𝑝𝑟𝑜𝑏𝑎𝑏𝑖𝑙𝑖𝑡𝑦 𝑙𝑜𝑤 𝑠𝑒𝑣𝑒𝑟𝑖𝑡𝑦)). As indicated by the formula, this is related to the *ratio* of probability of a high severity accident to probability of a low severity accident.<br>\n",
    "Negative coefficients (equal to negative logodds) are equivalent to low probabilities of the high severity occuring. As the coefficients increase, so does this probability. A 50/50 probability is equivalent to a coefficient of 0.<br>\n",
    "\n",
    "We were able to gain insight about the different features from the coefficients of this model. The highest coefficients were observed in the eastern states, while lowest coefficients were more concentrated in the western states (see figure below). <br>\n",
    "Negative coefficients indicate a low probability ratio of high severity to low severity which in turn imply the odds for high severity accidents in those states are low.<br>\n"
   ]
  },
  {
   "cell_type": "markdown",
   "metadata": {},
   "source": [
    "<img src=\"https://github.com/ssatti0/US_Traffic_Accidents/blob/master/Figures/GoofleSlide_img6_LogReg%20Coeffs%20East%20West%20States.png?raw=true\">"
   ]
  },
  {
   "cell_type": "markdown",
   "metadata": {},
   "source": [
    "##### Random Forest:\n",
    "Hyper-parameter tuning was carried out by varying n_estimators and class_weight. n_estimators=100 and class_weights of 0.67 and 0.33 for 'low' and 'high' respectively, gave the highest accuracy value of 78%. The f1-scores were 84% and 65%, respectively.<br>\n",
    "\n",
    "The top 20 features in the feature_importances_ attribute were plotted(below). Running a model with these 20 features yields 74.5% accuracy, and f1-scores of 58 and 82% for 'high' and 'low', respectively.<br>\n"
   ]
  },
  {
   "cell_type": "markdown",
   "metadata": {},
   "source": [
    "<img src=\"https://github.com/ssatti0/US_Traffic_Accidents/blob/master/Figures/Random%20Forest%2020%20Most%20Important%20Features.png?raw=true\">"
   ]
  },
  {
   "cell_type": "markdown",
   "metadata": {},
   "source": [
    "In looking at the coefficients of the Logistic Regression(below) in conjunction with the some of the Random Forest top 20 most important features, we can make some observations:<br>\n",
    "\n",
    "Saturday, with a coefficient of -0.64 has a lower probability(and lower odds) of a high severity accident occuring compared to Thursday(coef 0.162) and Friday (coef 0.135).<br>\n",
    "\n",
    "Examining the rest of the days of the week, it is clear that Tuesday(coef 0.204) has the highest probability ratio of high severity to low severity which makes it the day of the week with the highest odds of a high severity accidents.<br>\n",
    "\n",
    "Junctions (a coef_ of -0.002) have a lower probability of severe accidents occuring than a Crossing(0.70) and even less of a probability than a Traffic Signal(1.26). In other words, Traffic Signals have the highest odds of the three for occurance of severe accidents.<br>\n",
    "The left side of the road, Side_L has a higher probability of high severity accidents than Side_R (which makes sense since that's facing oncoming traffic! Or perhaps this is due to leakage in the data, since being in the left side happens *after* the accident has taken place?).<br>\n"
   ]
  },
  {
   "cell_type": "markdown",
   "metadata": {},
   "source": [
    "\n",
    "<img src=\"https://github.com/ssatti0/US_Traffic_Accidents/blob/master/Figures/GooglSlide_img7_LogReg%20Coef%20of%20RF%20Top20most%20Important.png?raw=true\">"
   ]
  },
  {
   "cell_type": "markdown",
   "metadata": {},
   "source": [
    "#### Summary and Conclusions:\n",
    "\n",
    "- Implemented tuned logistic regression parameters to obtain the highest diagonal values in the confusion matrix, and lowest False Positives(FPs) and False Negatives(FNs).\n",
    "- Hyper-parameter tuning for RandomForest model to achieve highest accuracy and f1 score. This included:\n",
    "    - Experimenting with weighted inputs: weights of 0.67 for lows and 0.33 for highs gave best results.\n",
    "    - Calculating the 'most important' top 20 features, and running the model: this resulted in lower accuracy and f1 scores.\n",
    "- the conclusion is: Random Forest gives better overall results with an accuracy value of 78%, compared to Logistic Regression's 71%.\n"
   ]
  },
  {
   "cell_type": "markdown",
   "metadata": {},
   "source": [
    "### Recommended Future Work:\n",
    "There is still room for improvement of the model in order to have better predictions of low and high severity accidents. some of the work that can be done is listed below.\n",
    "\n",
    "- Further work to include:\n",
    "    + Try using classification voting ensemble methods, whereby predictions for each label are summed and the label with the majority vote is predicted. This can be tried in two ways: equally weighting the models, or using weighted average(blending) .<br>\n",
    "    \n",
    "    + Use partial_fit to incrementally train the classifier using successive batches from the 3Million row record. This method will also allow occasional updates with additional data over time.\n",
    "    + Try additional feature engineering on the columns (e.g. $x^2$), and monitor the effect on model improvement (e.g. increasing accuracy)."
   ]
  },
  {
   "cell_type": "markdown",
   "metadata": {},
   "source": [
    "## References:\n",
    "- Moosavi, Sobhan, Mohammad Hossein Samavatian, Srinivasan Parthasarathy, and Rajiv Ramnath. “A Countrywide Traffic Accident Dataset.”, 2019.<br>\n",
    "- Moosavi, Sobhan, Mohammad Hossein Samavatian, Srinivasan Parthasarathy, Radu Teodorescu, and Rajiv Ramnath. \"Accident Risk Prediction based on Heterogeneous Sparse Data: New Dataset and Insights.\" In proceedings of the 27th ACM SIGSPATIAL International Conference on Advances in Geographic Information Systems, ACM, 2019. <br>\n",
    "- https://www.thewanderingrv.com/car-accident-statistics/\n",
    "- https://www.prb.org/which-us-states-are-the-oldest/\n",
    "- https://en.wikipedia.org/wiki/List_of_states_and_territories_of_the_United_States_by_population\n",
    "- https://www.statista.com/statistics/199974/us-car-sales-since-1951/\n",
    "- Scikit Learn manual. https://scikit-learn.org/"
   ]
  },
  {
   "cell_type": "code",
   "execution_count": null,
   "metadata": {},
   "outputs": [],
   "source": []
  }
 ],
 "metadata": {
  "kernelspec": {
   "display_name": "Python 3",
   "language": "python",
   "name": "python3"
  },
  "language_info": {
   "codemirror_mode": {
    "name": "ipython",
    "version": 3
   },
   "file_extension": ".py",
   "mimetype": "text/x-python",
   "name": "python",
   "nbconvert_exporter": "python",
   "pygments_lexer": "ipython3",
   "version": "3.7.3"
  }
 },
 "nbformat": 4,
 "nbformat_minor": 2
}
